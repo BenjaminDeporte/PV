{
 "cells": [
  {
   "cell_type": "code",
   "execution_count": null,
   "metadata": {},
   "outputs": [],
   "source": [
    "import numpy as np\n",
    "import pandas as pd\n",
    "import matplotlib.pyplot as plt"
   ]
  },
  {
   "cell_type": "code",
   "execution_count": null,
   "metadata": {},
   "outputs": [],
   "source": [
    "import pvlib\n",
    "print(pvlib.__version__)"
   ]
  },
  {
   "cell_type": "code",
   "execution_count": null,
   "metadata": {},
   "outputs": [],
   "source": [
    "import datetime"
   ]
  },
  {
   "cell_type": "markdown",
   "metadata": {},
   "source": [
    "# Modèle"
   ]
  },
  {
   "cell_type": "code",
   "execution_count": null,
   "metadata": {},
   "outputs": [],
   "source": [
    "# POA geometry definition\n",
    "\n",
    "tilts = {\n",
    "    'horizontal_tilt_0' : 0.0,\n",
    "    'optimum_tilt_37' : 37.0\n",
    "}\n",
    "\n",
    "modele = {\n",
    "    'lieu' : 'Pechbusque',\n",
    "    'azimuth' : 180.0,\n",
    "    'tilts' : tilts,\n",
    "    'tilt_choisi' : 'horizontal_tilt_0',\n",
    "    'modele_temperature' : 'close_mount_glass_glass', # parmi ['open_rack_glass_glass', 'close_mount_glass_glass', 'open_rack_glass_polymer', 'insulated_back_glass_polymer']\n",
    "    'dc_installed' : 18 * 405.0, # puissance crete installée\n",
    "    'AC_onduleur' : 6000.0, # puissance onduleur VA\n",
    "    'rendement_onduleur' : 0.98,\n",
    "}"
   ]
  },
  {
   "cell_type": "markdown",
   "metadata": {},
   "source": [
    "# METEO à Toulouse"
   ]
  },
  {
   "cell_type": "code",
   "execution_count": null,
   "metadata": {},
   "outputs": [],
   "source": [
    "# where is Pechbusque...\n",
    "# name,latitude, longitude, altitude, timezone\n",
    "\n",
    "coordinates = {\n",
    "    'Pechbusque': (43.515, 1.465, 279.0, 'Europe/Paris'),\n",
    "    'Montpellier' : (43.58, 3.97, 6.0, 'Europe/Paris')   # pour comparer avec PV Watts\n",
    "}"
   ]
  },
  {
   "cell_type": "code",
   "execution_count": null,
   "metadata": {},
   "outputs": [],
   "source": [
    "lieu = modele.get('lieu')"
   ]
  },
  {
   "cell_type": "code",
   "execution_count": null,
   "metadata": {},
   "outputs": [],
   "source": [
    "latitude, longitude, altitude, time_zone = coordinates[lieu]"
   ]
  },
  {
   "cell_type": "code",
   "execution_count": null,
   "metadata": {},
   "outputs": [],
   "source": [
    "# récupère infos de PV-GIS\n",
    "\n",
    "df_weather, months, inputs, metadata = pvlib.iotools.get_pvgis_tmy(latitude=latitude,\n",
    "                                                                   longitude=longitude,\n",
    "                                                                   map_variables=True\n",
    "                                                                   )"
   ]
  },
  {
   "cell_type": "code",
   "execution_count": null,
   "metadata": {},
   "outputs": [],
   "source": [
    "df_weather.describe(include='all').transpose()"
   ]
  },
  {
   "cell_type": "code",
   "execution_count": null,
   "metadata": {},
   "outputs": [],
   "source": [
    "df_weather.head(5)"
   ]
  },
  {
   "cell_type": "code",
   "execution_count": null,
   "metadata": {},
   "outputs": [],
   "source": [
    "# Irradiance\n",
    "\n",
    "first_week = df_weather.head(24*7)  # Plotting 7 days, each one has 24 hours or entries\n",
    "first_week[['ghi', 'dni', 'dhi']].plot()\n",
    "plt.ylabel('Irradiance [W/m²]')\n",
    "plt.show()"
   ]
  },
  {
   "cell_type": "code",
   "execution_count": null,
   "metadata": {},
   "outputs": [],
   "source": [
    "print(f\"{lieu}\")\n",
    "print(f\"GHI annuel : {df_weather['ghi'].sum()/1000:.0f} kWh/m²/an\")\n",
    "print(f\"DNI annuel : {df_weather['dni'].sum()/1000:.0f} kWh/m²/an\")\n",
    "print(f\"DHI annuel : {df_weather['dhi'].sum()/1000:.0f} kWh/m²/an\")"
   ]
  },
  {
   "cell_type": "code",
   "execution_count": null,
   "metadata": {},
   "outputs": [],
   "source": [
    "# travail sur le format : on force tous les timestamps pour avoir la même année : 2023\n",
    "\n",
    "new_index_to_2023 = [ datetime.datetime(2023, d.month, d.day, d.hour, d.minute, tzinfo=d.tzinfo) for d in df_weather.index ]\n",
    "new_index_to_2023 = pd.DatetimeIndex(new_index_to_2023)\n",
    "\n",
    "df_weather = df_weather.set_index(new_index_to_2023)"
   ]
  },
  {
   "cell_type": "code",
   "execution_count": null,
   "metadata": {},
   "outputs": [],
   "source": [
    "# données mensuelles\n",
    "\n",
    "monthly_ghi = df_weather['ghi'].resample('M').sum()/1000  # NB : nécessite d'avoir la même année, sinon le resampling produit plus de 12 lignes\n",
    "monthly_ghi = monthly_ghi.tz_localize(None)  # pour afficher sans la tz\n",
    "\n",
    "monthly_ghi.plot.bar()\n",
    "\n",
    "plt.ylabel('Monthly Global Horizontal Irradiance\\n[kWh/m²]');"
   ]
  },
  {
   "cell_type": "markdown",
   "metadata": {},
   "source": [
    "# POA Irradiance\n",
    "\n",
    "https://pvsc-python-tutorials.github.io/PVSC48-Python-Tutorial/Tutorial%202%20-%20POA%20Irradiance.html"
   ]
  },
  {
   "cell_type": "code",
   "execution_count": null,
   "metadata": {},
   "outputs": [],
   "source": [
    "# instancie un objet Location de pvlib\n",
    "\n",
    "location = pvlib.location.Location(latitude=latitude,\n",
    "                                   longitude=longitude,\n",
    "                                   altitude=altitude,\n",
    "                                   name=lieu,\n",
    "                                   tz=time_zone\n",
    ")"
   ]
  },
  {
   "cell_type": "code",
   "execution_count": null,
   "metadata": {},
   "outputs": [],
   "source": [
    "# calcul de la position du soleil, au milieu (30 mins) de chaque intervalle horaire\n",
    "\n",
    "times = df_weather.index - pd.Timedelta('30min')\n",
    "solar_position = location.get_solarposition(times)\n",
    "# but remember to shift the index back to line up with the TMY data:\n",
    "solar_position.index += pd.Timedelta('30min')\n",
    "\n",
    "solar_position.head()"
   ]
  },
  {
   "cell_type": "code",
   "execution_count": null,
   "metadata": {},
   "outputs": [],
   "source": [
    "# POA geometry definition\n",
    "\n",
    "tilts = modele.get('tilts')\n",
    "azimuth = modele.get('azimuth')"
   ]
  },
  {
   "cell_type": "code",
   "execution_count": null,
   "metadata": {},
   "outputs": [],
   "source": [
    "# calcule les valeurs horaires de l'irradiance POA pour les différents tilts\n",
    "\n",
    "dfs_poa ={}\n",
    "\n",
    "for k,tilt in tilts.items():\n",
    "    dfs_poa[k] = pvlib.irradiance.get_total_irradiance(\n",
    "        surface_tilt=tilt,\n",
    "        surface_azimuth=azimuth,\n",
    "        dni=df_weather['dni'],\n",
    "        ghi=df_weather['ghi'],\n",
    "        dhi=df_weather['dhi'],\n",
    "        solar_zenith=solar_position['apparent_zenith'],\n",
    "        solar_azimuth=solar_position['azimuth'],\n",
    "        model='isotropic'\n",
    "    )"
   ]
  },
  {
   "cell_type": "code",
   "execution_count": null,
   "metadata": {},
   "outputs": [],
   "source": [
    "data_global_poa = { k : dfs_poa.get(k)['poa_global'] for k in tilts.keys() }\n",
    "\n",
    "for k, df in dfs_poa.items():\n",
    "    df_monthly = df.resample('M').sum()/1000.0\n",
    "    data_global_poa[k] = df_monthly['poa_global']\n",
    "    \n",
    "df_summary = pd.DataFrame(data_global_poa)\n",
    "\n",
    "df_summary = df_summary.resample('M').sum()\n",
    "\n",
    "fig, ax = plt.subplots(figsize=(16,10))\n",
    "df_summary.plot.bar(ax = ax)\n",
    "plt.ylabel('Global POA par mois (Wh/m²)')\n",
    "plt.show()"
   ]
  },
  {
   "cell_type": "code",
   "execution_count": null,
   "metadata": {},
   "outputs": [],
   "source": [
    "for tilt_config, df in dfs_poa.items():\n",
    "    print(f\"\\n{tilt_config}\")\n",
    "    print(f\"POA global annuel = {df['poa_global'].sum()/1000:.0f} kWh/m² \")"
   ]
  },
  {
   "cell_type": "code",
   "execution_count": null,
   "metadata": {},
   "outputs": [],
   "source": [
    "# This plot shows that, compared with a flat array, a tilted array receives significantly more insolation in the winter.\n",
    "# However, it comes at the cost of slightly less insolation in the summer. \n",
    "# The difference is all about solar position – tilting up from horizontal gives a better match to solar position in winter, when the sun is low in the sky. \n",
    "# However it gives a slightly worse match in summer when the sun is very high in the sky."
   ]
  },
  {
   "cell_type": "markdown",
   "metadata": {},
   "source": [
    "# Choix CONFIG"
   ]
  },
  {
   "cell_type": "code",
   "execution_count": null,
   "metadata": {},
   "outputs": [],
   "source": [
    "tilt_choisi = modele.get('tilt_choisi')"
   ]
  },
  {
   "cell_type": "markdown",
   "metadata": {},
   "source": [
    "# Module Temperature\n",
    "\n",
    "https://pvsc-python-tutorials.github.io/PVSC48-Python-Tutorial/Tutorial%203%20-%20Module%20Temperature.html"
   ]
  },
  {
   "cell_type": "code",
   "execution_count": null,
   "metadata": {},
   "outputs": [],
   "source": [
    "# On a déjà les données météo pour différents tilts,\n",
    "# il faut maintenant le modèle de température\n",
    "\n",
    "all_parameters = pvlib.temperature.TEMPERATURE_MODEL_PARAMETERS['sapm']\n",
    "list(all_parameters.keys())\n",
    "\n",
    "# descriptions ici : https://sam.nrel.gov/forum/forum-general/1040-mount-types.html#:~:text=Cell%2FPolymer%20Sheet-,Open%20Rack,Open%20Rack\n",
    "# \"\"Roof mount is typical of residential installations where modules are attached to the roof surface with standoffs that providing limited air flow between the module back and roof surface (typically between two and six inches).\"\""
   ]
  },
  {
   "cell_type": "code",
   "execution_count": null,
   "metadata": {},
   "outputs": [],
   "source": [
    "methode = modele.get('modele_temperature')\n",
    "\n",
    "parameters = all_parameters[methode]   # approprié pour les fixations à tilt = 0° (Dome Solar)"
   ]
  },
  {
   "cell_type": "code",
   "execution_count": null,
   "metadata": {},
   "outputs": [],
   "source": [
    "cell_temperature = pvlib.temperature.sapm_cell(\n",
    "    dfs_poa.get(tilt_choisi)['poa_global'],   # valeurs horaires de l'irradiance sur POA\n",
    "    df_weather['temp_air'],\n",
    "    df_weather['wind_speed'],\n",
    "    **parameters\n",
    ")"
   ]
  },
  {
   "cell_type": "code",
   "execution_count": null,
   "metadata": {},
   "outputs": [],
   "source": [
    "df_weather['temp_air'].head(24*7).plot()\n",
    "cell_temperature.head(24*7).plot()\n",
    "plt.grid()\n",
    "plt.legend(['Temp air', 'Temp cellule'])\n",
    "plt.ylabel('Temperature °C')\n",
    "plt.title(f\"{methode}, {tilt_choisi}\")\n",
    "plt.show()"
   ]
  },
  {
   "cell_type": "code",
   "execution_count": null,
   "metadata": {},
   "outputs": [],
   "source": [
    "methode = modele.get('modele_temperature')\n",
    "tilt_choisi = modele.get('tilt_choisi')\n",
    "\n",
    "cell_temp_min = cell_temperature.min()\n",
    "cell_temp_max = cell_temperature.max()\n",
    "\n",
    "temp = np.array(cell_temperature)\n",
    "\n",
    "fig, ax = plt.subplots(figsize=(16,10))\n",
    "ax.plot(temp, color='g', label='température cellule')\n",
    "\n",
    "plt.axhline(y=cell_temp_min, color='b', label='min')\n",
    "plt.text(4000,0,f\"min temp = {cell_temp_min:.2f} °C\")\n",
    "\n",
    "plt.axhline(y=cell_temp_max, color='r', label='max')\n",
    "plt.text(0,60,f\"max temp = {cell_temp_max:.2f} °C\")\n",
    "\n",
    "plt.title(f\"{methode}, {tilt_choisi}\")\n",
    "\n",
    "plt.legend()\n",
    "plt.grid()\n",
    "plt.show()"
   ]
  },
  {
   "cell_type": "code",
   "execution_count": null,
   "metadata": {},
   "outputs": [],
   "source": [
    "parameters = all_parameters['open_rack_glass_glass']   # what if... fixation à 37°C\n",
    "\n",
    "cell_temperature = pvlib.temperature.sapm_cell(\n",
    "    dfs_poa.get('optimum_tilt_37')['poa_global'],   # valeurs horaires de l'irradiance sur POA\n",
    "    df_weather['temp_air'],\n",
    "    df_weather['wind_speed'],\n",
    "    **parameters\n",
    ")\n",
    "\n",
    "df_weather['temp_air'].head(24*7).plot()\n",
    "cell_temperature.head(24*7).plot()\n",
    "plt.grid()\n",
    "plt.legend(['Temp air', 'Temp cellule'])\n",
    "plt.ylabel('Temperature °C')\n",
    "plt.title(f\"open_rack, optimum_tilt_37°\")\n",
    "plt.show()\n",
    "\n",
    "# NB : meilleur refroidissment supposé, mais un peu plus de Watts, donc ça chauffe plus ?"
   ]
  },
  {
   "cell_type": "markdown",
   "metadata": {},
   "source": [
    "# Module Performance\n",
    "\n",
    "https://pvsc-python-tutorials.github.io/PVSC48-Python-Tutorial/Tutorial%204%20-%20Model%20a%20Module%27s%20Performance.html"
   ]
  },
  {
   "cell_type": "code",
   "execution_count": null,
   "metadata": {},
   "outputs": [],
   "source": [
    "# Standard Test Conditions\n",
    "\n",
    "E0 = 1000.0 # W/m²\n",
    "T0 = 25.0 # 0°C\n",
    "\n",
    "# IEC61853 Test Matrix\n",
    "E_IEC61853 = [100, 200, 400, 600, 800, 1000, 1100]  # irradiances [W/m^2]\n",
    "T_IEC61853 = [15, 25, 50, 75]  # temperatures [degC]\n",
    "\n",
    "IEC61853 = np.meshgrid(T_IEC61853, E_IEC61853)\n",
    "\n",
    "# IEC61853"
   ]
  },
  {
   "cell_type": "code",
   "execution_count": null,
   "metadata": {},
   "outputs": [],
   "source": [
    "CECMODS = pvlib.pvsystem.retrieve_sam(name='CECMod')\n",
    "\n",
    "CECMODS.T.columns"
   ]
  },
  {
   "cell_type": "code",
   "execution_count": null,
   "metadata": {},
   "outputs": [],
   "source": [
    "trina_mods = CECMODS.T.index.str.startswith('Trina_Solar') & CECMODS.T.index.str.contains('TSM_375')\n",
    "CECMODS.T[trina_mods]"
   ]
  },
  {
   "cell_type": "code",
   "execution_count": null,
   "metadata": {},
   "outputs": [],
   "source": [
    "# CECMODS.T[trina_mods].mean().T"
   ]
  },
  {
   "cell_type": "code",
   "execution_count": null,
   "metadata": {},
   "outputs": [],
   "source": [
    "#-----------------------------------------------------------------------------------------------------\n",
    "# données module Trina : sources = datasheet Trina, base CEC, autres info reprises de la db SAM\n",
    "#-----------------------------------------------------------------------------------------------------\n",
    "\n",
    "module_trina_vertex_405_CEC = {\n",
    "    'Technology' : 'Mono-c-Si',\n",
    "    'A_c' : 1.91,\n",
    "    'N_s' : 60, # nb cells en série\n",
    "    'N_p' : 2, # nb strings cells en paralèlle\n",
    "    'I_sc_ref' : 12.34, # I court circuit\n",
    "    'V_oc_ref' : 41.4, # V open circuit\n",
    "    'I_mp_ref' : 11.77, # I max power\n",
    "    'V_mp_ref' : 34.4, # V max power\n",
    "    'T_NOCT' : 44.8, # Temperature NOC\n",
    "    'gamma_r' : -0.357, # power temperature coefficient at reference condition in %/Δ°C\n",
    "    'alpha_sc' : 0.033, # short circuit current temperature coefficient in A/Δ°C\n",
    "    'beta_oc' : -0.266, # open circuit voltage temperature coefficient in V/Δ°C\n",
    "    'a_ref' : 1.817684, # diode ideality factor - reuse TSM-375W average\n",
    "    'I_L_ref' : 9.933467,  # light or photogenerated current at reference condition in A - reuse 375W average\n",
    "    'I_o_ref' : 4.073428e-11, # diode saturation current at reference condition in A - reuse 375W average\n",
    "    'R_s' : 0.2525602, # series resistance in Ω - reuse 375W average\n",
    "    'R_sh_ref' : 696.9603, # shunt resistance at reference condition in Ω - reuse 375W average\n",
    "    'Adjust' : 10.54502, # adjustment to short circuit temperature coefficient in % - reuse 375W average\n",
    "    'BIPV' : 'N',  \n",
    "    'PTC' : 378.0,\n",
    "    'STC' : 405.0,\n",
    "    'Length' : 1.754,\n",
    "    'Width' : 1.096,\n",
    "    \"Name\" : \"Trina_Vertex_405Wc_TSM-DE09\"\n",
    "}"
   ]
  },
  {
   "cell_type": "code",
   "execution_count": null,
   "metadata": {},
   "outputs": [],
   "source": [
    "# calcul des Single Diod Parameters aux différents points du test IEC (T°C cell x irradiance)\n",
    "# afin de pouvoir inférer les courbes I-V à différentes conditions\n",
    "\n",
    "temp_cell, effective_irradiance = IEC61853\n",
    "\n",
    "cecparams = pvlib.pvsystem.calcparams_cec(\n",
    "        effective_irradiance=effective_irradiance,\n",
    "        temp_cell=temp_cell,\n",
    "        alpha_sc=module_trina_vertex_405_CEC.get('alpha_sc'),\n",
    "        a_ref=module_trina_vertex_405_CEC.get('a_ref'),\n",
    "        I_L_ref=module_trina_vertex_405_CEC.get('I_L_ref'),\n",
    "        I_o_ref=module_trina_vertex_405_CEC.get('I_o_ref'),\n",
    "        R_sh_ref=module_trina_vertex_405_CEC.get('R_sh_ref'),\n",
    "        R_s=module_trina_vertex_405_CEC.get('R_s'),\n",
    "        Adjust=module_trina_vertex_405_CEC.get('Adjust'),\n",
    "        EgRef=1.121,\n",
    "        dEgdT=-0.0002677)\n",
    "\n",
    "IL, I0, Rs, Rsh, nNsVth = cecparams"
   ]
  },
  {
   "cell_type": "code",
   "execution_count": null,
   "metadata": {},
   "outputs": [],
   "source": [
    "# flatten the meshgrid to allow single diode to broadcast the output\n",
    "\n",
    "curve_info = pvlib.pvsystem.singlediode(\n",
    "    photocurrent=IL.flatten(),\n",
    "    saturation_current=I0.flatten(),\n",
    "    resistance_series=Rs,\n",
    "    resistance_shunt=Rsh.flatten(),\n",
    "    nNsVth=nNsVth.flatten(),\n",
    "    ivcurve_pnts=101,\n",
    "    method='lambertw')\n",
    "\n",
    "# display the max power points\n",
    "# curve_info['p_mp']"
   ]
  },
  {
   "cell_type": "code",
   "execution_count": null,
   "metadata": {},
   "outputs": [],
   "source": [
    "curve_info.keys()"
   ]
  },
  {
   "cell_type": "code",
   "execution_count": null,
   "metadata": {},
   "outputs": [],
   "source": [
    "# plot the calculated curves:\n",
    "\n",
    "exclude = [(1100, 15), (400, 75), (200, 50), (200, 75), (100, 50), (100, 75)]\n",
    "kolor = ['#1f77b4', '#2ca02c', '#8c564b', '#9467bd', '#d62728', '#e377c2', '#ff7f0e']\n",
    "\n",
    "f, ax = plt.subplots(2, 2, figsize=(16, 10), sharex=True, sharey=True)\n",
    "\n",
    "for m, irr in enumerate(E_IEC61853):\n",
    "    for n, tc in enumerate(T_IEC61853):\n",
    "        if (irr, tc) in exclude:\n",
    "            continue\n",
    "        i = n + 4*m\n",
    "        j = n // 2, n % 2\n",
    "        label = (\n",
    "            \"$G_{eff}$ \" + f\"{irr} $W/m^2$\"\n",
    "        )\n",
    "        ax[j].plot(curve_info['v'][i], curve_info['i'][i], label=label, c=kolor[m])\n",
    "        v_mp = curve_info['v_mp'][i]\n",
    "        i_mp = curve_info['i_mp'][i]\n",
    "        # mark the MPP\n",
    "        ax[j].plot(v_mp, i_mp, ls='', marker='o', c=kolor[m])\n",
    "        ax[j].vlines(v_mp, 0, i_mp, linestyle='dashed', color=kolor[m])\n",
    "        # just repeat this every time doesn't hurt anyone\n",
    "        ax[j].legend(loc='right')\n",
    "        if j[0] == 1:\n",
    "            ax[j].set_xlabel('Module voltage [V]')\n",
    "        if j[1] == 0:\n",
    "            ax[j].set_ylabel('Module current [A]')\n",
    "        ax[j].set_title(f\"{module_trina_vertex_405_CEC.get('Name')}, \" + \"$T_{cell}$ \" + f\"{tc} \" + \"$^{\\circ}C$\")\n",
    "        ax[j].grid(True)\n",
    "        ax[j].set_xlim([0, 80])\n",
    "\n",
    "f.tight_layout()"
   ]
  },
  {
   "cell_type": "markdown",
   "metadata": {},
   "source": [
    "# Array Power\n",
    "\n",
    "https://pvsc-python-tutorials.github.io/PVSC48-Python-Tutorial/Tutorial%205%20-%20Array%20Power.html"
   ]
  },
  {
   "cell_type": "code",
   "execution_count": null,
   "metadata": {},
   "outputs": [],
   "source": [
    "gamma_pdc = module_trina_vertex_405_CEC.get('gamma_r')/100.0\n",
    "nameplate = modele.get('dc_installed') # puissance crete installée"
   ]
  },
  {
   "cell_type": "code",
   "execution_count": null,
   "metadata": {},
   "outputs": [],
   "source": [
    "array_power = pvlib.pvsystem.pvwatts_dc(\n",
    "    dfs_poa.get(tilt_choisi)['poa_global'], \n",
    "    cell_temperature, \n",
    "    nameplate, \n",
    "    gamma_pdc,\n",
    "    )"
   ]
  },
  {
   "cell_type": "code",
   "execution_count": null,
   "metadata": {},
   "outputs": [],
   "source": [
    "array_power.head(24*7).plot()\n",
    "plt.ylabel('Array Power [W]');"
   ]
  },
  {
   "cell_type": "code",
   "execution_count": null,
   "metadata": {},
   "outputs": [],
   "source": [
    "print(f\"DC Power annuel pour {tilt_choisi} : {array_power.sum()/1000.0:.0f} kWh\")"
   ]
  },
  {
   "cell_type": "markdown",
   "metadata": {},
   "source": [
    "# AC/DC ... forcément ..."
   ]
  },
  {
   "cell_type": "code",
   "execution_count": null,
   "metadata": {},
   "outputs": [],
   "source": [
    "# Modèle simpliste onduleur\n",
    "\n",
    "ac0 = modele.get('AC_onduleur') # puissance onduleur VA\n",
    "eta = modele.get('rendement_onduleur') # 0.98 # rendement\n",
    "pdc0 = ac0/eta  # puissance nominale DC\n",
    "\n",
    "ac = pvlib.inverter.pvwatts(array_power, pdc0)"
   ]
  },
  {
   "cell_type": "code",
   "execution_count": null,
   "metadata": {},
   "outputs": [],
   "source": [
    "array_power"
   ]
  },
  {
   "cell_type": "code",
   "execution_count": null,
   "metadata": {},
   "outputs": [],
   "source": [
    "plt.rcParams['font.size'] = 14\n",
    "\n",
    "ac_period = ac.resample('M').sum()/1000.0\n",
    "dc_period = array_power.resample('M').sum()/1000.0\n",
    "\n",
    "ax = ac_period.plot(figsize=(15, 10), label='AC')\n",
    "dc_period.plot(ax=ax, label='DC', color='r')\n",
    "\n",
    "plt.title(f'AC/DC Power - {tilt_choisi}, {nameplate:.0f} Wc, onduleur {ac0:.0f} VA')\n",
    "plt.ylabel('Output [kWh/mois]')\n",
    "\n",
    "plt.grid()\n",
    "plt.legend()\n",
    "plt.show()"
   ]
  },
  {
   "cell_type": "code",
   "execution_count": null,
   "metadata": {},
   "outputs": [],
   "source": [
    "print (f\"Modèle = {tilt_choisi}\")\n",
    "print (f\"méthode montage = {methode}\")\n",
    "print (f\"Puissance DC = {nameplate:.0f} Wc\")\n",
    "print (f\"Puissance onduleur = {ac0:.0f} kVA, rendement = {eta:.1%}\")\n",
    "print (f\"Prod AC totale annuelle = {ac.sum()/1000:.0f} kWh\")\n",
    "print (f\"Ensoleillement total POA = {dfs_poa.get(tilt_choisi)['poa_global'].sum()/1000.0:.0f} kWh/m²\")"
   ]
  },
  {
   "cell_type": "code",
   "execution_count": null,
   "metadata": {},
   "outputs": [],
   "source": [
    "dc_max = array_power.max()\n",
    "\n",
    "dc_hourly = np.array(array_power)\n",
    "\n",
    "fig, ax = plt.subplots(figsize=(16,10))\n",
    "ax.plot(dc_hourly, color='g', label='DC output')\n",
    "\n",
    "plt.axhline(y=6000.0, color='k', label='6 kW DC')\n",
    "\n",
    "plt.axhline(y=5000.0, color='k', label='5 kW DC')\n",
    "\n",
    "plt.axhline(y=dc_max, color='b', label='DC max')\n",
    "plt.text(0, dc_max * .95,f\"DC max = {dc_max:.0f} W\")\n",
    "\n",
    "plt.title(f\"{nameplate:.0f} Wc, {tilt_choisi}\") # onduleur {ac0:.0f} VA\")\n",
    "\n",
    "plt.legend()\n",
    "plt.grid()\n",
    "plt.show()"
   ]
  },
  {
   "cell_type": "code",
   "execution_count": null,
   "metadata": {},
   "outputs": [],
   "source": [
    "ac_period = ac.resample('D').sum()/1000.0\n",
    "\n",
    "ac_max = ac_period.max()\n",
    "ac_min = ac_period.min()\n",
    "ac_mean = ac_period.mean()\n",
    "\n",
    "ac_daily = np.array(ac_period)\n",
    "\n",
    "fig, ax = plt.subplots(figsize=(16,10))\n",
    "ax.plot(ac_daily, color='g', label='AC output jour')\n",
    "\n",
    "plt.axhline(y=ac_max, color='r', label='AC output max')\n",
    "plt.text(300, ac_mean * 1.15,f\"AC max = {ac_max:.1f} kWh/j\")\n",
    "\n",
    "plt.axhline(y=ac_min, color='b', label='AC output min')\n",
    "plt.text(300, ac_mean * 0.89,f\"AC min = {ac_min:.1f} kWh/j\")\n",
    "\n",
    "plt.axhline(y=ac_mean, color='k', label='AC output moyen')\n",
    "plt.text(300, ac_mean * 1.02,f\"AC moyen = {ac_mean:.1f} kWh/j\")\n",
    "\n",
    "plt.title(f\"{nameplate:.0f} Wc, {tilt_choisi}, onduleur {ac0:.0f} VA\")\n",
    "\n",
    "plt.legend()\n",
    "plt.grid()\n",
    "plt.show()"
   ]
  },
  {
   "cell_type": "markdown",
   "metadata": {},
   "source": [
    "# Profils consommation"
   ]
  },
  {
   "cell_type": "code",
   "execution_count": null,
   "metadata": {},
   "outputs": [],
   "source": [
    "# Scenarii globaux, consommations mensuelles\n",
    "\n",
    "scenario_full_family = {\n",
    "    \"nom\" : \"famille_6p\",\n",
    "    \"consommations\" : {\n",
    "        \"chauffage\" : [598.0, 274.0, 219.0, 53.0, 0, 0, 0, 0, 0, 30.0, 205.0, 578.0],\n",
    "        \"ecs_rdc\" : [215.0, 186.0, 184.0, 145.0, 185.0, 149.0, 122.0, 156.0, 141.0, 171.0, 145.0, 232.0],\n",
    "        \"ecs_etg\" : [178.0, 152.0, 161.0, 132.0, 167.0, 148.0, 90.0, 115.0, 123.0, 143.0, 125.0, 163.0],\n",
    "        \"vmc_df\" : [286.0, 151.0, 119.0, 96.0, 89.0, 93.0, 95.0, 79.0, 89.0, 122.0, 117.0, 196.0],\n",
    "        \"elec_24_7\" : [271.0, 245.0, 271.0, 262.0, 271.0, 262.0, 271.0, 271.0, 262.0, 271.0, 262.0, 271.0],  # constante jour x nb jours dans le mois\n",
    "        \"elec_autre\" : [274.0] * 12,\n",
    "        \"piscine\" : [60.0, 60.0, 60.0, 60.0, 360.0, 360.0, 360.0, 360.0, 360.0, 360.0, 60.0, 60.0],\n",
    "        \"ve1\" : [198.0, 198.0, 180.0, 162.0, 144.0, 135.0, 75.0, 75.0, 135.0, 162.0, 180.0, 198.0],\n",
    "        \"ve2\" : [198.0, 198.0, 180.0, 162.0, 144.0, 135.0, 75.0, 75.0, 135.0, 162.0, 180.0, 198.0]\n",
    "        }\n",
    "    }\n",
    "\n",
    "scenario_deux_adultes = {\n",
    "    \"nom\" : \"deux_adultes\",\n",
    "    \"consommations\" : {\n",
    "        \"chauffage\" : [598.0, 274.0, 219.0, 53.0, 0, 0, 0, 0, 0, 30.0, 205.0, 578.0],\n",
    "        \"ecs_rdc\" : [215.0, 186.0, 184.0, 145.0, 185.0, 149.0, 122.0, 156.0, 141.0, 171.0, 145.0, 232.0],\n",
    "        \"ecs_etg\" : [0.0] * 12,\n",
    "        \"vmc_df\" : [286.0, 151.0, 119.0, 96.0, 89.0, 93.0, 95.0, 79.0, 89.0, 122.0, 117.0, 196.0],\n",
    "        \"elec_24_7\" : [162.0, 146.0, 162.0, 157.0, 162.0, 157.0, 162.0, 162.0, 157.0, 162.0, 157.0, 162.0 ],  # constante jour x nb jours dans le mois\n",
    "        \"elec_autre\" : [108.0] * 12,\n",
    "        \"piscine\" : [60.0, 60.0, 60.0, 60.0, 360.0, 360.0, 360.0, 360.0, 360.0, 360.0, 60.0, 60.0],\n",
    "        \"ve1\" : [99.0, 99.0, 90.0, 81.0, 72.0, 68.0, 38.0, 38.0, 68.0, 81.0, 90.0, 99.0],\n",
    "        \"ve2\" : [99.0, 99.0, 90.0, 81.0, 72.0, 68.0, 38.0, 38.0, 68.0, 81.0, 90.0, 99.0]\n",
    "        }\n",
    "    }"
   ]
  },
  {
   "cell_type": "code",
   "execution_count": null,
   "metadata": {},
   "outputs": [],
   "source": [
    "# Profils hebdomadaires : modulation qui s'applique à elec_autre uniquement\n",
    "\n",
    "semaine_actifs = {\n",
    "    \"nom\" : \"profil_hebdomadaire_actifs\",\n",
    "    \"profil\" : [ .11, .11, .16, .11, .11, .20, .20]\n",
    "}\n",
    "\n",
    "semaine_home_based = {\n",
    "    \"nom\" : \"profil_hebdomadaire_home_based\",\n",
    "    \"profil\" : [ 1.0/7 ] * 7\n",
    "}"
   ]
  },
  {
   "cell_type": "code",
   "execution_count": null,
   "metadata": {},
   "outputs": [],
   "source": [
    "# profils consommations horaires\n",
    "\n",
    "# chauffage ------------------------------------------------------------------------------------------------------------------------\n",
    "\n",
    "split_dispo = [ x/100.0 for x in [ 10, 10, 10, 10, 10, 10, 10, 10, 10, 100, 100, 75, 75, 50, 25, 0, 0, 0, 25, 50, 75, 50, 50, 10] ]\n",
    "s = sum(split_dispo)\n",
    "\n",
    "profil_chauffage = [ x/s for x in split_dispo ]\n",
    "\n",
    "# ECS as usual : pas de décalage de la conso pour matcher la production solaire ----------------------------------------------------\n",
    "\n",
    "profil_ecs_as_usual = [ 1.0 / 24 ] * 24\n",
    "\n",
    "# ECS solar-aware : décalage de la conso sur une plage horaire matchant la production solaire --------------------------------------\n",
    "\n",
    "split_dispo = [0] * 13 + [100] * 5 + [0] * 6\n",
    "split_dispo = [ x/100.0 for x in split_dispo ]\n",
    "s = sum(split_dispo)\n",
    "\n",
    "profil_ecs_solar_aware = [ x/s for x in split_dispo ]\n",
    "\n",
    "# VMC DF ---------------------------------------------------------------------------------------------------------------------------\n",
    "\n",
    "profil_vmc_df = [ 1.0 / 24 ] * 24\n",
    "\n",
    "# Elec 24/7 ------------------------------------------------------------------------------------------------------------------------\n",
    "\n",
    "profil_elec_24_7 = [ 1.0 / 24 ] * 24\n",
    "\n",
    "# Elec autre -----------------------------------------------------------------------------------------------------------------------\n",
    "\n",
    "split_dispo = [1,1,1,1,1,2,5,20,20,20,10,10,30,30,10,10,10,10,40,50,50,30,10,5]\n",
    "split_dispo = [ x/100.0 for x in split_dispo ]\n",
    "s = sum(split_dispo)\n",
    "\n",
    "profil_elec_autre = [ x/s for x in split_dispo ]\n",
    "\n",
    "# Piscine --------------------------------------------------------------------------------------------------------------------------\n",
    "\n",
    "split_dispo = [0] * 9 + [100] * 12 + [0] * 3\n",
    "split_dispo = [ x/100.0 for x in split_dispo ]\n",
    "s = sum(split_dispo)\n",
    "\n",
    "profil_piscine = [ x/s for x in split_dispo ]\n",
    "\n",
    "# VE as usual ----------------------------------------------------------------------------------------------------------------------\n",
    "\n",
    "profil_ve_as_usual = [ 1.0 / 24 ] * 24\n",
    "\n",
    "# VE solar aware  ------------------------------------------------------------------------------------------------------------------\n",
    "\n",
    "split_dispo = [0] * 12 + [100] * 6 + [0] * 6\n",
    "split_dispo = [ x/100.0 for x in split_dispo ]\n",
    "s = sum(split_dispo)\n",
    "\n",
    "profil_ve_solar_aware = [ x/s for x in split_dispo ]\n",
    "\n",
    "#----------------------------------------------------------------------------------------------------------------------------------\n",
    "#----------------------------------------------------------------------------------------------------------------------------------\n",
    "\n",
    "profil_as_usual = {\n",
    "    \"nom\" : \"pas_de_decalage_de_conso\",\n",
    "    \"profils\" : {\n",
    "        \"chauffage\" : profil_chauffage,\n",
    "        \"ecs_rdc\" : profil_ecs_as_usual,\n",
    "        \"ecs_etg\" : profil_ecs_as_usual,\n",
    "        \"vmc_df\" : profil_vmc_df,\n",
    "        \"profil_elec_24_7\" : profil_elec_24_7,\n",
    "        \"profil_elec_autre\" : profil_elec_autre,\n",
    "        \"piscine\" : profil_piscine,\n",
    "        \"ve1\" : profil_ve_as_usual,\n",
    "        \"ve2\" : profil_ve_as_usual\n",
    "        }\n",
    "    }\n",
    "\n",
    "profil_solar_aware = {\n",
    "    \"nom\" : \"decalage_consos\",\n",
    "    \"profils\" : {\n",
    "        \"chauffage\" : profil_chauffage,\n",
    "        \"ecs_rdc\" : profil_ecs_solar_aware,\n",
    "        \"ecs_etg\" : profil_ecs_solar_aware,\n",
    "        \"vmc_df\" : profil_vmc_df,\n",
    "        \"profil_elec_24_7\" : profil_elec_24_7,\n",
    "        \"profil_elec_autre\" : profil_elec_autre,\n",
    "        \"piscine\" : profil_piscine,\n",
    "        \"ve1\" : profil_ve_solar_aware,\n",
    "        \"ve2\" : profil_ve_solar_aware\n",
    "    }\n",
    "}"
   ]
  },
  {
   "cell_type": "code",
   "execution_count": null,
   "metadata": {},
   "outputs": [],
   "source": [
    "# definition profil consommation global, par exemple :\n",
    "\n",
    "scenario = {\n",
    "    'consommations_mensuelles' : scenario_deux_adultes,\n",
    "    'profil_hebdomadaire' : semaine_home_based,\n",
    "    'profil_horaire' : profil_solar_aware\n",
    "}"
   ]
  },
  {
   "cell_type": "code",
   "execution_count": null,
   "metadata": {},
   "outputs": [],
   "source": [
    "df = pd.DataFrame.from_dict(scenario.get('consommations_mensuelles').get('consommations'))\n",
    "df"
   ]
  },
  {
   "cell_type": "code",
   "execution_count": null,
   "metadata": {},
   "outputs": [],
   "source": [
    "df.sum()"
   ]
  },
  {
   "cell_type": "code",
   "execution_count": null,
   "metadata": {},
   "outputs": [],
   "source": [
    "df.sum(axis=1)"
   ]
  },
  {
   "cell_type": "markdown",
   "metadata": {},
   "source": [
    "### Construction du fichier horaire de consommations"
   ]
  },
  {
   "cell_type": "code",
   "execution_count": null,
   "metadata": {},
   "outputs": [],
   "source": [
    "# construction de \"consommations_jour\" : dictionnaire des consommations par jour : 9 rubriques (keys) x liste 365 valeurs (conso par jour)\n",
    "\n",
    "consommations_mensuelles = scenario.get('consommations_mensuelles').get('consommations')  # dictionnaire des consommations mensuelles : 9 rubriques (keys) x liste 12 valeurs (conso par mois)\n",
    "\n",
    "consommations_jour = { k : [] for k in consommations_mensuelles.keys() }\n",
    "\n",
    "# nombre jours par mois\n",
    "\n",
    "nb_jours_par_mois = {\n",
    "    1 : 31,\n",
    "    2 : 28,\n",
    "    3 : 31,\n",
    "    4 : 30,\n",
    "    5 : 31,\n",
    "    6 : 30,\n",
    "    7 : 31,\n",
    "    8 : 31,\n",
    "    9 : 30,\n",
    "    10 : 31,\n",
    "    11 : 30,\n",
    "    12 : 31\n",
    "}\n",
    "\n",
    "for rubrique, liste_consos in consommations_mensuelles.items():\n",
    "    for m, conso_mois in enumerate(liste_consos):\n",
    "        nb_jours_mois = nb_jours_par_mois.get(m+1)\n",
    "        conso_jour = conso_mois / nb_jours_mois\n",
    "        # print(f\"{nb_jours_par_mois}\")\n",
    "        consommations_jour[rubrique].extend([conso_jour] * nb_jours_mois)"
   ]
  },
  {
   "cell_type": "code",
   "execution_count": null,
   "metadata": {},
   "outputs": [],
   "source": [
    "# construction de \"consommations_jour_ponderees\" : dictionnaire des consommations par jour pondérées du profil hebdomadaire : 9 rubriques (keys) x liste 365 valeurs (conso par jour)\n",
    "# pour l'instant, cette pondération ne s'applique qu'à \"elec_autre\"\n",
    "# les autres postes sont supposés indépendants du profil d'occupation de la maison\n",
    "\n",
    "first_weekday_of_year = datetime.datetime.date(df_weather.index[0]).weekday()  # premier jour de l'année : en l'occurence, 6 (dimanche) en 2023.as_integer_ratio\n",
    "\n",
    "grille_semaine = scenario.get('profil_hebdomadaire').get('profil')  # liste des %ages de la conso hebdo par jour de la semaine\n",
    "\n",
    "rubriques_a_ponderer = ['elec_autre']\n",
    "\n",
    "for rubrique in rubriques_a_ponderer:\n",
    "    # liste des 365 consos journalières\n",
    "    consos_jours_brutes = consommations_jour.get(rubrique)\n",
    "    # grille ponderation à appliquer :\n",
    "    grille_ponderation = [ grille_semaine[(j % 7 + first_weekday_of_year) % 7] * 7 for j in range(365) ]\n",
    "    # calcul des consos ponderees\n",
    "    consos_jours_nettes = [ c * g for c,g in zip(consos_jours_brutes, grille_ponderation) ]\n",
    "    consommations_jour[rubrique] = consos_jours_nettes"
   ]
  },
  {
   "cell_type": "code",
   "execution_count": null,
   "metadata": {},
   "outputs": [],
   "source": [
    "# construction du fichier horaire\n",
    "\n",
    "profil_horaire = scenario.get('profil_horaire') # dictionnaire 9 rubriques x liste 24 valeurs (%age de la conso du jour alloué à la tranche horaire)\n",
    "\n",
    "df1 = pd.DataFrame.from_dict(consommations_jour)  # df des 365 jours x 9 consos nettes journalières de chaque rubrique\n",
    "df2 = pd.DataFrame.from_dict(profil_horaire.get('profils')) # df des 24 %ages horaires de consommations x 9 rubriques"
   ]
  },
  {
   "cell_type": "code",
   "execution_count": null,
   "metadata": {},
   "outputs": [],
   "source": [
    "df2"
   ]
  },
  {
   "cell_type": "code",
   "execution_count": null,
   "metadata": {},
   "outputs": [],
   "source": [
    "# calcul de la matric consommations 365 jours x 24 heures\n",
    "\n",
    "mat = np.matmul(df1.to_numpy(), df2.to_numpy().T)  # multiplie 365 jours x 9 rubriques par 9 rubriques x 24 heures => 365 jours x 24 heures\n",
    "\n",
    "# flatten et met l'index du fichier d'origine\n",
    "consommation_annuelle_par_heure = pd.DataFrame(mat.reshape(365*24))\n",
    "consommation_annuelle_par_heure.set_index(keys=df_weather.index, inplace=True)"
   ]
  },
  {
   "cell_type": "code",
   "execution_count": null,
   "metadata": {},
   "outputs": [],
   "source": [
    "consommation_annuelle_par_heure"
   ]
  },
  {
   "cell_type": "code",
   "execution_count": null,
   "metadata": {},
   "outputs": [],
   "source": [
    "# verifications...\n",
    "\n",
    "# consommations mensuelles depuis scenario original :\n",
    "\n",
    "df = pd.DataFrame.from_dict(scenario.get('consommations_mensuelles').get('consommations'))\n",
    "\n",
    "print(df.sum().sum())\n",
    "print(df.sum(axis=1))\n",
    "\n",
    "# consommations mensuelles depuis consos par pas horaire :\n",
    "\n",
    "df_mois = consommation_annuelle_par_heure.resample('M').sum()\n",
    "\n",
    "print(df_mois)"
   ]
  },
  {
   "cell_type": "markdown",
   "metadata": {},
   "source": [
    "# Visualisation profils de consommation"
   ]
  },
  {
   "cell_type": "code",
   "execution_count": null,
   "metadata": {},
   "outputs": [],
   "source": [
    "# consommation totale par mois\n",
    "\n",
    "conso_m = consommation_annuelle_par_heure.resample('M').sum()\n",
    "conso_m = conso_m[0]\n",
    "\n",
    "fig, ax = plt.subplots(figsize=(16,10))\n",
    "x = ['jan', 'fev', 'mar', 'avr', 'mai', 'juin', 'juil', 'aou', 'sep', 'oct', 'nov', 'dec']\n",
    "ax.bar(x, height=conso_m, color='r', label='consommation mensuelle')\n",
    "ax.set_ylabel(f\"kWh / mois\")\n",
    "\n",
    "# plt.axhline(y=6000.0, color='k', label='6 kW DC')\n",
    "\n",
    "# plt.axhline(y=5000.0, color='k', label='5 kW DC')\n",
    "\n",
    "# plt.axhline(y=dc_max, color='b', label='DC max')\n",
    "# plt.text(0, dc_max * .95,f\"DC max = {dc_max:.0f} W\")\n",
    "\n",
    "plt.title(f\"{scenario.get('consommations_mensuelles').get('nom')}, {scenario.get('profil_hebdomadaire').get('nom')}, {scenario.get('profil_horaire').get('nom')}\") # onduleur {ac0:.0f} VA\")\n",
    "\n",
    "plt.legend()\n",
    "plt.grid()\n",
    "plt.show()"
   ]
  },
  {
   "cell_type": "code",
   "execution_count": null,
   "metadata": {},
   "outputs": [],
   "source": [
    "# consommation totale par jour\n",
    "\n",
    "conso_d = consommation_annuelle_par_heure.resample('M').mean()\n",
    "conso_d = conso_d[0] * 24\n",
    "\n",
    "fig, ax = plt.subplots(figsize=(16,10))\n",
    "x = ['jan', 'fev', 'mar', 'avr', 'mai', 'juin', 'juil', 'aou', 'sep', 'oct', 'nov', 'dec']\n",
    "ax.bar(x, height=conso_d, color='r', label='consommation jour')\n",
    "ax.set_ylabel(f\"kWh / jour\")\n",
    "\n",
    "# fig, ax = plt.subplots(figsize=(16,10))\n",
    "# ax.plot(conso_d, color='r', label='consommation jour')\n",
    "# ax.set_ylabel(f\"kWh / h\")\n",
    "\n",
    "plt.title(f\"{scenario.get('consommations_mensuelles').get('nom')}, {scenario.get('profil_hebdomadaire').get('nom')}, {scenario.get('profil_horaire').get('nom')}\") # onduleur {ac0:.0f} VA\")\n",
    "\n",
    "plt.legend()\n",
    "plt.grid()\n",
    "plt.show()"
   ]
  },
  {
   "cell_type": "code",
   "execution_count": null,
   "metadata": {},
   "outputs": [],
   "source": [
    "# consommation totale par heure : exemple 1er Janvier\n",
    "\n",
    "conso_h = consommation_annuelle_par_heure\n",
    "\n",
    "jour = 0\n",
    "conso_h = conso_h[0][jour*24:(jour+1)* 24]\n",
    "\n",
    "fig, ax = plt.subplots(figsize=(16,10))\n",
    "ax.plot(conso_h, color='r', label='consommation heure')\n",
    "ax.set_ylabel(f\"kWh / h\")\n",
    "\n",
    "plt.title(f\"{scenario.get('consommations_mensuelles').get('nom')}, {scenario.get('profil_hebdomadaire').get('nom')}, {scenario.get('profil_horaire').get('nom')} - jour de l'année : {jour+1}\") # onduleur {ac0:.0f} VA\")\n",
    "\n",
    "plt.legend()\n",
    "plt.grid()\n",
    "plt.show()"
   ]
  },
  {
   "cell_type": "code",
   "execution_count": null,
   "metadata": {},
   "outputs": [],
   "source": [
    "# consommation totale par heure : exemple 21 juin\n",
    "\n",
    "conso_h = consommation_annuelle_par_heure\n",
    "\n",
    "jour = 171\n",
    "conso_h = conso_h[0][jour*24:(jour+1)* 24]\n",
    "\n",
    "fig, ax = plt.subplots(figsize=(16,10))\n",
    "ax.plot(conso_h, color='r', label='consommation heure')\n",
    "ax.set_ylabel(f\"kWh / h\")\n",
    "\n",
    "plt.title(f\"{scenario.get('consommations_mensuelles').get('nom')}, {scenario.get('profil_hebdomadaire').get('nom')}, {scenario.get('profil_horaire').get('nom')} - jour de l'année : {jour+1}\") # onduleur {ac0:.0f} VA\")\n",
    "\n",
    "plt.legend()\n",
    "plt.grid()\n",
    "plt.show()"
   ]
  },
  {
   "cell_type": "code",
   "execution_count": null,
   "metadata": {},
   "outputs": [],
   "source": [
    "# panorama des consos par rubrique\n",
    "\n",
    "df1 = pd.DataFrame.from_dict(consommations_jour)  # df des 365 jours x 9 consos nettes journalières de chaque rubrique"
   ]
  },
  {
   "cell_type": "code",
   "execution_count": null,
   "metadata": {},
   "outputs": [],
   "source": [
    "fig, ax = plt.subplots(3,3, figsize=(16,16))\n",
    "rubriques = df1.columns\n",
    "\n",
    "for i, r in enumerate(rubriques):\n",
    "    rg = i // 3\n",
    "    col = i % 3\n",
    "    ax[rg,col] = df1[r].plot(ax = ax[rg,col])\n",
    "    ax[rg,col].set_title(f\"{r}\")\n",
    "    ax[rg,col].grid()\n",
    "\n",
    "plt.show()"
   ]
  },
  {
   "cell_type": "markdown",
   "metadata": {},
   "source": [
    "# Flux et Stockage"
   ]
  },
  {
   "cell_type": "code",
   "execution_count": null,
   "metadata": {},
   "outputs": [],
   "source": [
    "print (f\"PRODUCTION\")\n",
    "print (f\"Ensoleillement total POA = {dfs_poa.get(tilt_choisi)['poa_global'].sum()/1000.0:.0f} kWh/m²\")\n",
    "print (f\"Modèle = {tilt_choisi}\")\n",
    "print (f\"méthode montage = {methode}\")\n",
    "print (f\"Puissance DC = {nameplate:.0f} Wc\")\n",
    "print (f\"Puissance onduleur = {ac0:.0f} kVA, rendement = {eta:.1%}\")\n",
    "print (f\"Prod AC totale annuelle = {ac.sum()/1000:.0f} kWh\")\n",
    "\n",
    "print (f\"\\n\")\n",
    "print (f\"CONSOMMATION\")\n",
    "print (f\"Scenario = {scenario.get('consommations_mensuelles').get('nom')}\")\n",
    "print (f\"Profil activité = {scenario.get('profil_hebdomadaire').get('nom')}\")\n",
    "print (f\"Profil horaire = {scenario.get('profil_horaire').get('nom')}\")\n",
    "print (f\"Consommation totale annuelle = {consommation_annuelle_par_heure[0].sum():.0f} kWh\" )"
   ]
  },
  {
   "cell_type": "code",
   "execution_count": null,
   "metadata": {},
   "outputs": [],
   "source": [
    "prod = ac / 1000.0  # production horaire en kWh\n",
    "conso = consommation_annuelle_par_heure[0]  # consommation horaire en kWh\n",
    "\n",
    "flux = pd.DataFrame(prod - conso)\n",
    "flux.rename(columns = {0:'flux'}, inplace=True)"
   ]
  },
  {
   "cell_type": "code",
   "execution_count": null,
   "metadata": {},
   "outputs": [],
   "source": [
    "# flux par mois\n",
    "\n",
    "flux_m = flux.resample('M').sum()\n",
    "flux_m = flux_m['flux']\n",
    "\n",
    "fig, ax = plt.subplots(figsize=(16,10))\n",
    "x = ['jan', 'fev', 'mar', 'avr', 'mai', 'juin', 'juil', 'aou', 'sep', 'oct', 'nov', 'dec']\n",
    "couleur = [ 'b' if f>=0.0 else 'r' for f in flux_m ]\n",
    "ax.bar(x, height=flux_m, color=couleur, label='flux mensuel')\n",
    "ax.set_ylabel(f\"kWh / mois\")\n",
    "\n",
    "plt.title(f\"{scenario.get('consommations_mensuelles').get('nom')}, {scenario.get('profil_hebdomadaire').get('nom')}, {scenario.get('profil_horaire').get('nom')}\") # onduleur {ac0:.0f} VA\")\n",
    "\n",
    "plt.legend()\n",
    "plt.grid()\n",
    "plt.show()"
   ]
  },
  {
   "cell_type": "code",
   "execution_count": null,
   "metadata": {},
   "outputs": [],
   "source": [
    "# flux par jour\n",
    "\n",
    "flux_m = flux.resample('D').sum()\n",
    "flux_m = flux_m['flux']\n",
    "\n",
    "fig, ax = plt.subplots(figsize=(16,10))\n",
    "x = range(365)\n",
    "couleur = [ 'b' if f>=0.0 else 'r' for f in flux_m ]\n",
    "ax.bar(x, height=flux_m, color=couleur, label='flux jour')\n",
    "ax.set_ylabel(f\"kWh / jour\")\n",
    "\n",
    "plt.title(f\"{scenario.get('consommations_mensuelles').get('nom')}, {scenario.get('profil_hebdomadaire').get('nom')}, {scenario.get('profil_horaire').get('nom')}\") # onduleur {ac0:.0f} VA\")\n",
    "\n",
    "plt.legend()\n",
    "plt.grid()\n",
    "plt.show()"
   ]
  },
  {
   "cell_type": "code",
   "execution_count": null,
   "metadata": {},
   "outputs": [],
   "source": [
    "fx = np.array(flux['flux'])\n",
    "fx.shape"
   ]
  },
  {
   "cell_type": "code",
   "execution_count": null,
   "metadata": {},
   "outputs": [],
   "source": [
    "# flux par heure\n",
    "\n",
    "fig, ax = plt.subplots(figsize=(32,10))\n",
    "\n",
    "x = range(8760)\n",
    "flux_array = np.array(flux['flux'])\n",
    "\n",
    "couleur = [ 'b' if f>=0.0 else 'r' for f in list(flux_array) ]\n",
    "ax.bar(x, height=flux_array, color=couleur, label='flux heure')\n",
    "ax.set_ylabel(f\"kWh / h\")\n",
    "\n",
    "plt.title(f\"{scenario.get('consommations_mensuelles').get('nom')}, {scenario.get('profil_hebdomadaire').get('nom')}, {scenario.get('profil_horaire').get('nom')}\") # onduleur {ac0:.0f} VA\")\n",
    "\n",
    "plt.legend()\n",
    "plt.grid()\n",
    "plt.show()"
   ]
  },
  {
   "cell_type": "code",
   "execution_count": null,
   "metadata": {},
   "outputs": [],
   "source": [
    "print(f\"BILAN FLUX\")\n",
    "inj = np.where( flux_array > 0, flux_array, 0.0).sum()\n",
    "print(f\"injectés ou stockés : {inj:.0f} kWh\")\n",
    "print(f\"from grid ou déstockés : {np.where( flux_array <= 0, flux_array, 0.0).sum():.0f} kWh\")\n",
    "autoconso = ac.sum()/1000.0 - inj\n",
    "print(f\"prod PV consommée : {autoconso:.0f} kWh\")"
   ]
  },
  {
   "cell_type": "markdown",
   "metadata": {},
   "source": [
    "# Etude STOCKAGE"
   ]
  },
  {
   "cell_type": "code",
   "execution_count": null,
   "metadata": {},
   "outputs": [],
   "source": [
    "stockage = {\n",
    "    'stockage_batterie' : True, # présence, ou pas, d'une batterie de stockage\n",
    "    'capacité_batterie' : 11000, # capacité totale utile de la batterie, en Wh\n",
    "    'stockage_virtuel' : True, # présence, ou pas, d'un stockage virtuel auprès d'un fournisseur d'énergie\n",
    "    'capacité_stockage_virtuel' : 50000000, # capacité totale utile du stockage virtuel (arbitrairement haut)\n",
    "}"
   ]
  },
  {
   "cell_type": "code",
   "execution_count": null,
   "metadata": {},
   "outputs": [],
   "source": [
    "# assemble la dataframe des productions et consommations horaires en Wh\n",
    "\n",
    "df_data_horaire = pd.DataFrame(\n",
    "    data={'production' : ac.values,\n",
    "          'consommation' :consommation_annuelle_par_heure[0].to_numpy() * 1000.0\n",
    "          },\n",
    "    index=ac.index\n",
    "    )"
   ]
  },
  {
   "cell_type": "code",
   "execution_count": null,
   "metadata": {},
   "outputs": [],
   "source": [
    "df_data_horaire['flux'] = df_data_horaire['production'] - df_data_horaire['consommation']"
   ]
  },
  {
   "cell_type": "code",
   "execution_count": null,
   "metadata": {},
   "outputs": [],
   "source": [
    "new_columns = [\n",
    "    'from_grid',  # flux du jour éventuellement tiré de la grille. NB : valeurs >= 0\n",
    "    'from_stockage_virtuel', # flux du jour éventuellement tiré du stockage virtuel. NB : valeurs >= 0\n",
    "    'from_batterie', # flux du jour éventuellement tiré de la batterie. NB : valeurs >= 0\n",
    "    'soc_batterie', # state of charge de la batterie au début de la tranche horaire\n",
    "    'soc_stockage_virtuel', # state of charge (=valeur compteur) du stockage virtuel\n",
    "    'to_batterie', # flux éventuellement stocké dans la batterie (valeur >=0), à concurrence de soc_batterie <= capacité_batterie\n",
    "    'to_stockage_virtuel', # flux éventuellement stocké (compté) dans stockage virtuel (valeur >=0), à concurrence de soc_stockage_virtuel <= capacité_stockage_virtuel\n",
    "    'to_grid', # flux éventuellement injecté (>=0)\n",
    "]\n",
    "\n",
    "df_data_horaire[new_columns] = 0.0"
   ]
  },
  {
   "cell_type": "code",
   "execution_count": null,
   "metadata": {},
   "outputs": [],
   "source": [
    "df_data_horaire"
   ]
  },
  {
   "cell_type": "code",
   "execution_count": 1,
   "metadata": {},
   "outputs": [],
   "source": [
    "def allocation_flux(\n",
    "    production,\n",
    "    consommation,\n",
    "    \n",
    "    stockage_batterie,\n",
    "    soc_batterie,\n",
    "    capacite_batterie, \n",
    "    \n",
    "    stockage_virtuel,\n",
    "    soc_stockage_virtuel,\n",
    "    capacite_stockage_virtuel\n",
    "    ):\n",
    "    \n",
    "    \"\"\"Prend la production et la consommation du pas horaire, les données des différents stockages, et retourne l'allocation du flux dans les différentes rubriques \n",
    "    \"\"\"\n",
    "    \n",
    "    flux = production - consommation\n",
    "    \n",
    "    if flux >= 0:\n",
    "        \n",
    "        # production supérieure à la consommation\n",
    "        \n",
    "        # 1/ aucun supply nécessaire\n",
    "        from_grid = 0.0\n",
    "        from_stockage_virtuel = 0.0\n",
    "        from_batterie = 0.0\n",
    "        \n",
    "        # 2/ allocation dans les différents stockages\n",
    "        reste = flux\n",
    "        \n",
    "        # 2.1/ si on dispose d'une batterie :\n",
    "        if stockage_batterie:\n",
    "            to_batterie = min(reste, capacite_batterie-soc_batterie) # on stocke jusqu'à la capacité max de la batterie\n",
    "            new_soc_batterie = soc_batterie + to_batterie\n",
    "            reste -= to_batterie\n",
    "        else:\n",
    "            to_batterie = 0.0\n",
    "            new_soc_batterie = soc_batterie\n",
    "            \n",
    "        # 2.2/ si on dispose d'un stockage virtuel :\n",
    "        if stockage_virtuel:\n",
    "            to_stockage_virtuel = min(reste, capacite_stockage_virtuel-soc_stockage_virtuel) # on stocke jusqu'à la capacité max du stockage virtuel\n",
    "            new_soc_stockage_virtuel = soc_stockage_virtuel + to_stockage_virtuel\n",
    "            reste -= to_stockage_virtuel\n",
    "        else:\n",
    "            to_stockage_virtuel = 0.0\n",
    "            new_soc_stockage_virtuel = soc_stockage_virtuel\n",
    "            \n",
    "        # 2.3/ ce qui reste est injecté sur le réseau\n",
    "        to_grid = reste\n",
    "        \n",
    "    else:\n",
    "        \n",
    "        # production inférieure à la consommation\n",
    "        \n",
    "        # 1/ aucun stockage possible\n",
    "        to_grid = 0.0\n",
    "        to_stockage_virtuel = 0.0\n",
    "        to_batterie = 0.0\n",
    "        \n",
    "        # 2/ allocation depuis les différentes sources\n",
    "        reste = -flux # besoin >= 0\n",
    "        \n",
    "        # 2.1/ si on a une batterie, on essaie de déstocker\n",
    "        if stockage_batterie:\n",
    "            from_batterie = min(reste, soc_batterie) # on déstocke jusqu'à épuisement de l'énergie disponible\n",
    "            new_soc_batterie = soc_batterie - from_batterie\n",
    "            reste -= from_batterie\n",
    "        else:\n",
    "            from_batterie = 0.0\n",
    "            new_soc_batterie = soc_batterie\n",
    "            \n",
    "        # 2.2/ si on dispose d'un stockage virtuel \n",
    "        if stockage_virtuel:\n",
    "            from_stockage_virtuel = min(reste, soc_stockage_virtuel) # on déstocke jusqu'à épuisement du stockage virtuel\n",
    "            new_soc_stockage_virtuel = soc_stockage_virtuel - from_stockage_virtuel\n",
    "            reste -= from_stockage_virtuel\n",
    "        else:\n",
    "            from_stockage_virtuel = 0.0\n",
    "            new_soc_stockage_virtuel = soc_stockage_virtuel\n",
    "            \n",
    "        # 2.3/ le besoin restant est tiré du réseau\n",
    "        from_grid = reste\n",
    "\n",
    "    return from_grid, from_stockage_virtuel, from_batterie, new_soc_batterie, new_soc_stockage_virtuel, to_batterie, to_stockage_virtuel, to_grid"
   ]
  },
  {
   "cell_type": "code",
   "execution_count": 40,
   "metadata": {},
   "outputs": [],
   "source": [
    "# TESTS DE LA FONCTION ALLOCATION\n",
    "\n",
    "cas =[\n",
    "    { 'production' : 1000.0, 'consommation' : 0.0, 'stockage_batterie' : False, 'soc_batterie' : 0.0, 'capacite_batterie' : 0.0, 'stockage_virtuel' : False, 'soc_stockage_virtuel' : 0.0, 'capacite_stockage_virtuel' : 0.0 },\n",
    "    { 'production' : 1000.0, 'consommation' : 200.0, 'stockage_batterie' : False, 'soc_batterie' : 0.0, 'capacite_batterie' : 0.0, 'stockage_virtuel' : False, 'soc_stockage_virtuel' : 0.0, 'capacite_stockage_virtuel' : 0.0 },\n",
    "    \n",
    "    { 'production' : 1000.0, 'consommation' : 200.0, 'stockage_batterie' : True, 'soc_batterie' : 0.0, 'capacite_batterie' : 1000.0, 'stockage_virtuel' : False, 'soc_stockage_virtuel' : 0.0, 'capacite_stockage_virtuel' : 0.0 },\n",
    "    { 'production' : 1000.0, 'consommation' : 200.0, 'stockage_batterie' : True, 'soc_batterie' : 0.0, 'capacite_batterie' : 500.0, 'stockage_virtuel' : False, 'soc_stockage_virtuel' : 0.0, 'capacite_stockage_virtuel' : 0.0 },\n",
    "    \n",
    "    { 'production' : 1000.0, 'consommation' : 200.0, 'stockage_batterie' : True, 'soc_batterie' : 0.0, 'capacite_batterie' : 500.0, 'stockage_virtuel' : True, 'soc_stockage_virtuel' : 0.0, 'capacite_stockage_virtuel' : 1000.0 },\n",
    "    { 'production' : 5000.0, 'consommation' : 1000.0, 'stockage_batterie' : True, 'soc_batterie' : 0.0, 'capacite_batterie' : 500.0, 'stockage_virtuel' : True, 'soc_stockage_virtuel' : 0.0, 'capacite_stockage_virtuel' : 1000.0 },\n",
    "    \n",
    "    { 'production' : 1000.0, 'consommation' : 2000.0, 'stockage_batterie' : False, 'soc_batterie' : 0.0, 'capacite_batterie' : 0.0, 'stockage_virtuel' : False, 'soc_stockage_virtuel' : 0.0, 'capacite_stockage_virtuel' : 0.0 },\n",
    "    \n",
    "    { 'production' : 1000.0, 'consommation' : 2000.0, 'stockage_batterie' : True, 'soc_batterie' : 10000.0, 'capacite_batterie' : 10000.0, 'stockage_virtuel' : False, 'soc_stockage_virtuel' : 0.0, 'capacite_stockage_virtuel' : 0.0 },\n",
    "    \n",
    "    { 'production' : 1000.0, 'consommation' : 2000.0, 'stockage_batterie' : True, 'soc_batterie' : 600.0, 'capacite_batterie' : 10000.0, 'stockage_virtuel' : False, 'soc_stockage_virtuel' : 0.0, 'capacite_stockage_virtuel' : 0.0 },\n",
    "    \n",
    "    { 'production' : 1000.0, 'consommation' : 2000.0, 'stockage_batterie' : True, 'soc_batterie' : 100.0, 'capacite_batterie' : 10000.0, 'stockage_virtuel' : True, 'soc_stockage_virtuel' : 200.0, 'capacite_stockage_virtuel' : 1000.0 },\n",
    "]  \n",
    "\n",
    "expected = [\n",
    "    { 'from_grid' : 0.0, 'from_stockage_virtuel' : 0.0, 'from_batterie' : 0.0, 'new_soc_batterie' :0.0, 'new_soc_stockage_virtuel' : 0.0, 'to_batterie' : 0.0, 'to_stockage_virtuel' : 0.0, 'to_grid' : 1000.0 },\n",
    "    { 'from_grid' : 0.0, 'from_stockage_virtuel' : 0.0, 'from_batterie' : 0.0, 'new_soc_batterie' :0.0, 'new_soc_stockage_virtuel' : 0.0, 'to_batterie' : 0.0, 'to_stockage_virtuel' : 0.0, 'to_grid' : 800.0 },\n",
    "    \n",
    "    { 'from_grid' : 0.0, 'from_stockage_virtuel' : 0.0, 'from_batterie' : 0.0, 'new_soc_batterie' :800.0, 'new_soc_stockage_virtuel' : 0.0, 'to_batterie' : 800.0, 'to_stockage_virtuel' : 0.0, 'to_grid' : 0.0 },\n",
    "    { 'from_grid' : 0.0, 'from_stockage_virtuel' : 0.0, 'from_batterie' : 0.0, 'new_soc_batterie' :500.0, 'new_soc_stockage_virtuel' : 0.0, 'to_batterie' : 500.0, 'to_stockage_virtuel' : 0.0, 'to_grid' : 300.0 },\n",
    "    \n",
    "    { 'from_grid' : 0.0, 'from_stockage_virtuel' : 0.0, 'from_batterie' : 0.0, 'new_soc_batterie' :500.0, 'new_soc_stockage_virtuel' : 300.0, 'to_batterie' : 500.0, 'to_stockage_virtuel' : 300.0, 'to_grid' : 000.0 },\n",
    "    { 'from_grid' : 0.0, 'from_stockage_virtuel' : 0.0, 'from_batterie' : 0.0, 'new_soc_batterie' :500.0, 'new_soc_stockage_virtuel' : 1000.0, 'to_batterie' : 500.0, 'to_stockage_virtuel' : 1000.0, 'to_grid' : 2500.0 },\n",
    "    \n",
    "    { 'from_grid' : 1000.0, 'from_stockage_virtuel' : 0.0, 'from_batterie' : 0.0, 'new_soc_batterie' :0.0, 'new_soc_stockage_virtuel' : 0.0, 'to_batterie' : 0.0, 'to_stockage_virtuel' : 0.0, 'to_grid' : 0.0 },\n",
    "    \n",
    "    { 'from_grid' : 0.0, 'from_stockage_virtuel' : 0.0, 'from_batterie' : 1000.0, 'new_soc_batterie' : 9000.0, 'new_soc_stockage_virtuel' : 0.0, 'to_batterie' : 0.0, 'to_stockage_virtuel' : 0.0, 'to_grid' : 0.0 },\n",
    "    \n",
    "    { 'from_grid' : 400.0, 'from_stockage_virtuel' : 0.0, 'from_batterie' : 600.0, 'new_soc_batterie' : 0.0, 'new_soc_stockage_virtuel' : 0.0, 'to_batterie' : 0.0, 'to_stockage_virtuel' : 0.0, 'to_grid' : 0.0 },\n",
    "    \n",
    "    { 'from_grid' : 700.0, 'from_stockage_virtuel' : 200.0, 'from_batterie' : 100.0, 'new_soc_batterie' : 0.0, 'new_soc_stockage_virtuel' : 0.0, 'to_batterie' : 0.0, 'to_stockage_virtuel' : 0.0, 'to_grid' : 0.0 },\n",
    "]\n",
    "\n",
    "for i, (c,e) in enumerate(zip(cas, expected)):\n",
    "    # print(f\"\\ncas {i+1}\")\n",
    "    attendu = tuple(e.values())\n",
    "    # print(f\"attendu = {attendu}\")\n",
    "    resultat = allocation_flux(**c)\n",
    "    # print(f\"résultat = {resultat}\")\n",
    "    # print(f\"{attendu == resultat}\")\n",
    "    assert attendu == resultat, f\"cas {i+1} : \\nattendu = {attendu}, \\nresultat = {resultat}\""
   ]
  },
  {
   "cell_type": "code",
   "execution_count": null,
   "metadata": {},
   "outputs": [],
   "source": []
  },
  {
   "cell_type": "code",
   "execution_count": null,
   "metadata": {},
   "outputs": [],
   "source": []
  },
  {
   "cell_type": "code",
   "execution_count": null,
   "metadata": {},
   "outputs": [],
   "source": []
  },
  {
   "cell_type": "code",
   "execution_count": null,
   "metadata": {},
   "outputs": [],
   "source": []
  },
  {
   "cell_type": "code",
   "execution_count": null,
   "metadata": {},
   "outputs": [],
   "source": []
  },
  {
   "cell_type": "code",
   "execution_count": null,
   "metadata": {},
   "outputs": [],
   "source": []
  },
  {
   "cell_type": "code",
   "execution_count": null,
   "metadata": {},
   "outputs": [],
   "source": []
  },
  {
   "cell_type": "code",
   "execution_count": null,
   "metadata": {},
   "outputs": [],
   "source": []
  },
  {
   "cell_type": "code",
   "execution_count": null,
   "metadata": {},
   "outputs": [],
   "source": []
  },
  {
   "cell_type": "code",
   "execution_count": null,
   "metadata": {},
   "outputs": [],
   "source": []
  },
  {
   "cell_type": "code",
   "execution_count": null,
   "metadata": {},
   "outputs": [],
   "source": []
  },
  {
   "cell_type": "code",
   "execution_count": null,
   "metadata": {},
   "outputs": [],
   "source": []
  },
  {
   "cell_type": "code",
   "execution_count": null,
   "metadata": {},
   "outputs": [],
   "source": []
  },
  {
   "cell_type": "code",
   "execution_count": null,
   "metadata": {},
   "outputs": [],
   "source": []
  },
  {
   "cell_type": "markdown",
   "metadata": {},
   "source": [
    "### 1- ANNEXES DATA"
   ]
  },
  {
   "cell_type": "code",
   "execution_count": null,
   "metadata": {},
   "outputs": [],
   "source": [
    "#-----------------------------------------------------------------------------------------------------\n",
    "# données module Trina : sources = datasheet Trina, base CEC, autres info reprises de la db SAM\n",
    "#-----------------------------------------------------------------------------------------------------\n",
    "\n",
    "module_trina_vertex_405 = {\n",
    "    \"Vintage\" : 2021,  # datasheet info\n",
    "    \"Area\" : 1.91,\n",
    "    \"Material\" : \"Mono-c-Si\", # datasheet info\n",
    "    \"Cells_in_Series\" : 60, # CEC database info\n",
    "    \"Parallel_Strings\" : 2, # CEC database info\n",
    "    \"Isco\" : 12.34, # short circuit current : datasheet info\n",
    "    \"Voco\" : 41.4, # open circuit voltage : datasheet info\n",
    "    \"Impo\" : 11.77, # max power current : datasheet info\n",
    "    \"Vmpo\" : 34.4, # max power voltage : datasheet info\n",
    "    \"Aisc\" : 0.0004, # short circuit temperature coefficient : datasheet info plus pénalisante que CEC info\n",
    "    \"Aimp\" : 0.0004, # maximum power temperature coefficient : inconnu, on reconduit Aisc\n",
    "    \"C0\" : 1.01284, # coefficients relating Im p to G : ?\n",
    "    \"C1\" : -0.01284, # coefficients relating Im p to G : ?\n",
    "    \"Bvoco\" : -0.266, # open circuit temperature coefficient : CEC info plus pénalisante que datasheet info \n",
    "    \"Mbvoc\" : 0, # relates βoc,re f to effective irradiance : 0 ?\n",
    "    \"Bvmpo\" : -0.266, # maximum power voltage temperature coefficient : inconnnu, on reconduit Bvoco\n",
    "    \"Mbvmp\" : 0, # relates βm p,re f to effective irradiance : 0 ?\n",
    "    \"N\" : 1.4032, # diode factor : ?\n",
    "    \"C2\" : 0.279317, # coefficients relating Vm p to G : ?\n",
    "    \"C3\" : -7.24463, # coefficients relating Vm p to G : ?\n",
    "    \"A0\" : 0.928385, # air mass coefficients 0...4 - spectral effects on Isc to the variation of air mass over the day - ?\n",
    "    \"A1\" : 0.068093, # air mass coefficients 0...4 - spectral effects on Isc to the variation of air mass over the day - ?\n",
    "    \"A2\" : -0.015774, # air mass coefficients 0...4 - spectral effects on Isc to the variation of air mass over the day - ?\n",
    "    \"A3\" : 0.001661, # air mass coefficients 0...4 - spectral effects on Isc to the variation of air mass over the day - ?\n",
    "    \"A4\" : -0.000069, # air mass coefficients 0...4 - spectral effects on Isc to the variation of air mass over the day - ?\n",
    "    \"B0\" : 1, # incidence angle modifier coefficients 0...5 - optical effects on Isc to the angle of incidence AOI (Section 5.1) - ?\n",
    "    \"B1\" : -0.002438, # incidence angle modifier coefficients 0...5 - optical effects on Isc to the angle of incidence AOI (Section 5.1) - ?\n",
    "    \"B2\" : 0.00031, # incidence angle modifier coefficients 0...5 - optical effects on Isc to the angle of incidence AOI (Section 5.1) - ?\n",
    "    \"B3\" : -0.000012, # incidence angle modifier coefficients 0...5 - optical effects on Isc to the angle of incidence AOI (Section 5.1) - ?\n",
    "    \"B4\" : 0.0, # incidence angle modifier coefficients 0...5 - optical effects on Isc to the angle of incidence AOI (Section 5.1) - ?\n",
    "    \"B5\" : -0.0, # incidence angle modifier coefficients 0...5 - optical effects on Isc to the angle of incidence AOI (Section 5.1) - ?\n",
    "    \"DTC\" : 3.0, # ??\n",
    "    \"FD\" : 1, # fraction of diffuse irradiance used by module\n",
    "    \"A\" : -3.40641, # ??\n",
    "    \"B\" : -0.084208, # ??\n",
    "    \"C4\" : 0.996446, # coefficients relating Ix to G : ?\n",
    "    \"C5\" : 0.003554, # coefficients relating Ix to G : ?\n",
    "    \"IXO\" : 4.97599, # ?\n",
    "    \"IXXO\" : 3.18803, # ?\n",
    "    \"C6\" : 1.15535, # coefficients relating Ixx to G : ?\n",
    "    \"C7\" : -0.155353, # coefficients relating Ixx to G : ?\n",
    "    \"Notes\" : \"Format SAM model, Source: CEC database, 11-Aug-2022\",\n",
    "    \"Name\" : \"Trina_Vertex_405Wc_TSM-DE09\"\n",
    "}"
   ]
  },
  {
   "cell_type": "code",
   "execution_count": null,
   "metadata": {},
   "outputs": [],
   "source": [
    "#-----------------------------------------------------------------------------------------------------\n",
    "#--- Onduleur Référence : SMA Tripower 8.0 -----------------------------------------------------------\n",
    "#-----------------------------------------------------------------------------------------------------\n",
    "\n",
    "inverter_sma_tri_TL_8kVA = {\n",
    "    \"Vac\" : 480.0, # Nominal voltage, -- inchangé -- essai à 230 : non, essai à 380 neg ; essai à 480\n",
    "    \"Pso\" : 44.0, # Power consumption during operation -- inchangé\n",
    "    \"Paco\" : 8000.0, # Maximum AC power - ok\n",
    "    \"Pdco\" : 15000.0, # Maximum DC power - changé de 12000 à 15000\n",
    "    \"Vdco\" : 580.0, # Nominal DC voltage - changé de 600 à 580\n",
    "    \"C0\" : -7.06449e-07, # Curvature between AC power and DC power W−1 : data du SMA STP 12000TL db CEC -- inchangé\n",
    "    \"C1\" : -3.5e-05, # Coefficient of Pd c,0 variation with DC input voltage V−1 : data du SMA STP 12000TL db CEC -- inchangé\n",
    "    \"C2\" : -0.000328, # Coefficient of Pso variation with DC input voltage V−1 : data du SMA STP 12000TL db CEC -- inchangé\n",
    "    \"C3\" : -0.001748, # Coefficient of C0 variation with DC input voltage V−1 : data du SMA STP 12000TL db CEC -- inchangé\n",
    "    \"Pnt\" : 3.6, # Inverter night time loss : ? -- inchangé -- essai à 3.6\n",
    "    \"Vdcmax\" : 1000.0, # Maximum DC voltage -- ok\n",
    "    \"Idcmax\" : 20.0, # Maximum DC current -- ok\n",
    "    \"Mppt_low\" : 260.0, # min MPP voltage -- changé de 330 à 260\n",
    "    \"Mppt_high\" : 800.0, # max MPP voltage -- inchangé\n",
    "    \"CEC_Date\" : \"N/A\",\n",
    "    \"CEC_Type\" : \"N/A\"\n",
    "}"
   ]
  },
  {
   "cell_type": "code",
   "execution_count": null,
   "metadata": {},
   "outputs": [],
   "source": [
    "#-----------------------------------------------------------------------------------------------------\n",
    "#--- Onduleur SMA Tripower Smart Energy --------------------------------------------------------------\n",
    "#-----------------------------------------------------------------------------------------------------\n",
    "\n",
    "inverter_sma_tripower_sme = {\n",
    "    \"Vac\" : 230.0, # Nominal voltage,\n",
    "    \"Pso\" : 44.0, # Power consumption during operation\n",
    "    \"Paco\" : 8000.0, # Maximum AC power\n",
    "    \"Pdco\" : 12000.0, # Maximum DC power\n",
    "    \"Vdco\" : 600.0, # Nominal DC voltage\n",
    "    \"C0\" : -7.06449e-07, # Curvature between AC power and DC power W−1 : data du SMA STP 12000TL db CEC\n",
    "    \"C1\" : -3.5e-05, # Coefficient of Pd c,0 variation with DC input voltage V−1 : data du SMA STP 12000TL db CEC\n",
    "    \"C2\" : -0.000328, # Coefficient of Pso variation with DC input voltage V−1 : data du SMA STP 12000TL db CEC\n",
    "    \"C3\" : -0.001748, # Coefficient of C0 variation with DC input voltage V−1 : data du SMA STP 12000TL db CEC\n",
    "    \"Pnt\" : 0.075, # Inverter night time loss : ?\n",
    "    \"Vdcmax\" : 1000.0, # Maximum DC voltage\n",
    "    \"Idcmax\" : 20.0, # Maximum DC current\n",
    "    \"Mppt_low\" : 330.0, # min MPP voltage\n",
    "    \"Mppt_high\" : 800.0, # max MPP voltage\n",
    "    \"CEC_Date\" : \"N/A\",\n",
    "    \"CEC_Type\" : \"N/A\"\n",
    "}"
   ]
  },
  {
   "cell_type": "code",
   "execution_count": null,
   "metadata": {},
   "outputs": [],
   "source": [
    "#-----------------------------------------------------------------------------------------------------\n",
    "#--- Onduleur custom ---------------------------------------------------------------------------------\n",
    "#-----------------------------------------------------------------------------------------------------\n",
    "\n",
    "inverter_custom = {\n",
    "    \"Vac\" : 380.0, # Nominal voltage, \n",
    "    \"Pso\" : 44.0, # Power consumption during operation -- inchangé\n",
    "    \"Paco\" : 8000.0, # Maximum AC power\n",
    "    \"Pdco\" : 15000.0, # Maximum DC power\n",
    "    \"Vdco\" : 580.0, # Nominal DC voltage\n",
    "    \"C0\" : -1e-6, # Curvature between AC power and DC power W−1 : data du SMA STP 12000TL db CEC -- inchangé\n",
    "    \"C1\" : -3.5e-05, # Coefficient of Pd c,0 variation with DC input voltage V−1 : data du SMA STP 12000TL db CEC -- inchangé\n",
    "    \"C2\" : -0.000328, # Coefficient of Pso variation with DC input voltage V−1 : data du SMA STP 12000TL db CEC -- inchangé\n",
    "    \"C3\" : -0.001748, # Coefficient of C0 variation with DC input voltage V−1 : data du SMA STP 12000TL db CEC -- inchangé\n",
    "    \"Pnt\" : 3.6, # Inverter night time loss : ? -- inchangé -- essai à 3.6\n",
    "    \"Vdcmax\" : 1000.0, # Maximum DC voltage\n",
    "    \"Idcmax\" : 30.0, # Maximum DC current\n",
    "    \"Mppt_low\" : 260.0, # min MPP voltage\n",
    "    \"Mppt_high\" : 800.0, # max MPP voltage\n",
    "    \"CEC_Date\" : \"N/A\",\n",
    "    \"CEC_Type\" : \"N/A\"\n",
    "}"
   ]
  },
  {
   "cell_type": "code",
   "execution_count": null,
   "metadata": {},
   "outputs": [],
   "source": [
    "# # module, onduleur...\n",
    "\n",
    "# sandia_modules = pvlib.pvsystem.retrieve_sam('SandiaMod')\n",
    "# sapm_inverters = pvlib.pvsystem.retrieve_sam('cecinverter')\n",
    "\n",
    "# # module = sandia_modules['Canadian_Solar_CS5P_220M___2009_']\n",
    "# module = pd.Series(module_trina_vertex_405)\n",
    "# # inverter = sapm_inverters['ABB__MICRO_0_25_I_OUTD_US_208__208V_']\n",
    "# inverter = pd.Series(inverter_sma_tripower_sme)\n",
    "\n",
    "# inverter_ref = sapm_inverters['SMA_America__STP12000TL_US_10__480V_']  # SMA Tri 12kVA\n",
    "# module_ref = sandia_modules['Suniva_Titan_240__2009__E__']   # module ancien à 240 Wc\n",
    "\n",
    "# temperature_model_parameters = pvlib.temperature.TEMPERATURE_MODEL_PARAMETERS['sapm']['open_rack_glass_glass']"
   ]
  },
  {
   "cell_type": "code",
   "execution_count": null,
   "metadata": {},
   "outputs": [],
   "source": [
    "# sandia_modules.transpose().to_csv('../Databases/sandia_modules.csv')  # dernier update = 2012 ?!\n",
    "# sapm_inverters.transpose().to_csv('../Databases/sapm_inverters.csv')  # dernier update = "
   ]
  },
  {
   "cell_type": "code",
   "execution_count": null,
   "metadata": {},
   "outputs": [],
   "source": [
    "# module = module_trina_vertex_405\n",
    "# inverter = inverter_sma_tri_ref_8kVA"
   ]
  },
  {
   "cell_type": "code",
   "execution_count": null,
   "metadata": {},
   "outputs": [],
   "source": [
    "# # Design PV OOP\n",
    "\n",
    "# from pvlib.pvsystem import PVSystem, Array, FixedMount\n",
    "# from pvlib.location import Location\n",
    "# from pvlib.modelchain import ModelChain\n",
    "\n",
    "# energies = {}\n",
    "\n",
    "# for location, weather in zip(coordinates, tmys):\n",
    "#     latitude, longitude, name, altitude, timezone = location\n",
    "    \n",
    "#     location = Location(\n",
    "#         latitude,\n",
    "#         longitude,\n",
    "#         name=name,\n",
    "#         altitude=altitude,\n",
    "#         tz=timezone,\n",
    "#     )\n",
    "    \n",
    "#     mount = FixedMount(surface_tilt=0.0, surface_azimuth=180.0)\n",
    "    \n",
    "#     array = Array(\n",
    "#         mount=mount,\n",
    "#         module_parameters=module,\n",
    "#         temperature_model_parameters=temperature_model_parameters,\n",
    "#         modules_per_string=21,\n",
    "#         strings=1\n",
    "#     )\n",
    "    \n",
    "#     system = PVSystem(arrays=[array], inverter_parameters=inverter)\n",
    "    \n",
    "#     mc = ModelChain(system, location,\n",
    "#                     spectral_model='no_loss',  # on essaie spectral model = no loss...\n",
    "#     )\n",
    "    \n",
    "#     mc.run_model(weather)\n",
    "#     annual_energy = mc.results.ac.sum()\n",
    "    \n",
    "#     energies[name] = annual_energy\n",
    "\n",
    "# energies = pd.Series(energies)\n",
    "\n",
    "# energies.plot(kind='bar', rot=0)\n",
    "\n",
    "# plt.ylabel('Yearly energy yield (W hr)')"
   ]
  }
 ],
 "metadata": {
  "kernelspec": {
   "display_name": "Python 3.8.12 ('toy')",
   "language": "python",
   "name": "python3"
  },
  "language_info": {
   "codemirror_mode": {
    "name": "ipython",
    "version": 3
   },
   "file_extension": ".py",
   "mimetype": "text/x-python",
   "name": "python",
   "nbconvert_exporter": "python",
   "pygments_lexer": "ipython3",
   "version": "3.8.12"
  },
  "orig_nbformat": 4,
  "vscode": {
   "interpreter": {
    "hash": "0d4188421b1ea34cf57bd540652e2057ec243abca946606272c4bc8feb64e22f"
   }
  }
 },
 "nbformat": 4,
 "nbformat_minor": 2
}
