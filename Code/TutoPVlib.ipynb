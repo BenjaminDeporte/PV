{
 "cells": [
  {
   "cell_type": "code",
   "execution_count": 1,
   "metadata": {},
   "outputs": [],
   "source": [
    "import numpy as np\n",
    "import pandas as pd\n",
    "import matplotlib.pyplot as plt"
   ]
  },
  {
   "cell_type": "code",
   "execution_count": 2,
   "metadata": {},
   "outputs": [
    {
     "name": "stdout",
     "output_type": "stream",
     "text": [
      "0.9.1\n"
     ]
    }
   ],
   "source": [
    "import pvlib\n",
    "print(pvlib.__version__)"
   ]
  },
  {
   "cell_type": "code",
   "execution_count": 3,
   "metadata": {},
   "outputs": [],
   "source": [
    "import datetime"
   ]
  },
  {
   "cell_type": "markdown",
   "metadata": {},
   "source": [
    "# METEO à Toulouse"
   ]
  },
  {
   "cell_type": "code",
   "execution_count": 4,
   "metadata": {},
   "outputs": [],
   "source": [
    "# where is Pechbusque...\n",
    "# name,latitude, longitude, altitude, timezone\n",
    "\n",
    "coordinates = {\n",
    "    'Pechbusque': (43.515, 1.465, 279.0, 'Europe/Paris'),\n",
    "    'Montpellier' : (43.58, 3.97, 6.0, 'Europe/Paris')   # pour comparer avec PV Watts\n",
    "}"
   ]
  },
  {
   "cell_type": "code",
   "execution_count": 5,
   "metadata": {},
   "outputs": [],
   "source": [
    "lieu = 'Pechbusque'"
   ]
  },
  {
   "cell_type": "code",
   "execution_count": 6,
   "metadata": {},
   "outputs": [],
   "source": [
    "latitude, longitude, altitude, time_zone = coordinates[lieu]"
   ]
  },
  {
   "cell_type": "code",
   "execution_count": 7,
   "metadata": {},
   "outputs": [],
   "source": [
    "# récupère infos de PV-GIS\n",
    "\n",
    "df_weather, months, inputs, metadata = pvlib.iotools.get_pvgis_tmy(latitude=latitude,\n",
    "                                                                   longitude=longitude,\n",
    "                                                                   map_variables=True\n",
    "                                                                   )"
   ]
  },
  {
   "cell_type": "code",
   "execution_count": 8,
   "metadata": {},
   "outputs": [
    {
     "data": {
      "text/html": [
       "<div>\n",
       "<style scoped>\n",
       "    .dataframe tbody tr th:only-of-type {\n",
       "        vertical-align: middle;\n",
       "    }\n",
       "\n",
       "    .dataframe tbody tr th {\n",
       "        vertical-align: top;\n",
       "    }\n",
       "\n",
       "    .dataframe thead th {\n",
       "        text-align: right;\n",
       "    }\n",
       "</style>\n",
       "<table border=\"1\" class=\"dataframe\">\n",
       "  <thead>\n",
       "    <tr style=\"text-align: right;\">\n",
       "      <th></th>\n",
       "      <th>count</th>\n",
       "      <th>mean</th>\n",
       "      <th>std</th>\n",
       "      <th>min</th>\n",
       "      <th>25%</th>\n",
       "      <th>50%</th>\n",
       "      <th>75%</th>\n",
       "      <th>max</th>\n",
       "    </tr>\n",
       "  </thead>\n",
       "  <tbody>\n",
       "    <tr>\n",
       "      <th>temp_air</th>\n",
       "      <td>8760.0</td>\n",
       "      <td>15.158910</td>\n",
       "      <td>7.127826</td>\n",
       "      <td>-4.49</td>\n",
       "      <td>10.1600</td>\n",
       "      <td>15.00</td>\n",
       "      <td>20.0700</td>\n",
       "      <td>37.21</td>\n",
       "    </tr>\n",
       "    <tr>\n",
       "      <th>relative_humidity</th>\n",
       "      <td>8760.0</td>\n",
       "      <td>76.830857</td>\n",
       "      <td>16.476023</td>\n",
       "      <td>27.07</td>\n",
       "      <td>65.0675</td>\n",
       "      <td>80.30</td>\n",
       "      <td>90.8425</td>\n",
       "      <td>100.00</td>\n",
       "    </tr>\n",
       "    <tr>\n",
       "      <th>ghi</th>\n",
       "      <td>8760.0</td>\n",
       "      <td>155.585919</td>\n",
       "      <td>239.517266</td>\n",
       "      <td>0.00</td>\n",
       "      <td>0.0000</td>\n",
       "      <td>0.00</td>\n",
       "      <td>240.0125</td>\n",
       "      <td>993.00</td>\n",
       "    </tr>\n",
       "    <tr>\n",
       "      <th>dni</th>\n",
       "      <td>8760.0</td>\n",
       "      <td>157.239387</td>\n",
       "      <td>271.987149</td>\n",
       "      <td>0.00</td>\n",
       "      <td>0.0000</td>\n",
       "      <td>0.00</td>\n",
       "      <td>211.5850</td>\n",
       "      <td>1032.41</td>\n",
       "    </tr>\n",
       "    <tr>\n",
       "      <th>dhi</th>\n",
       "      <td>8760.0</td>\n",
       "      <td>69.294155</td>\n",
       "      <td>98.825464</td>\n",
       "      <td>0.00</td>\n",
       "      <td>0.0000</td>\n",
       "      <td>0.00</td>\n",
       "      <td>119.0000</td>\n",
       "      <td>468.00</td>\n",
       "    </tr>\n",
       "    <tr>\n",
       "      <th>IR(h)</th>\n",
       "      <td>8760.0</td>\n",
       "      <td>304.853515</td>\n",
       "      <td>45.508030</td>\n",
       "      <td>186.55</td>\n",
       "      <td>270.0300</td>\n",
       "      <td>304.89</td>\n",
       "      <td>343.9000</td>\n",
       "      <td>407.80</td>\n",
       "    </tr>\n",
       "    <tr>\n",
       "      <th>wind_speed</th>\n",
       "      <td>8760.0</td>\n",
       "      <td>3.301823</td>\n",
       "      <td>1.907680</td>\n",
       "      <td>0.04</td>\n",
       "      <td>1.8800</td>\n",
       "      <td>2.79</td>\n",
       "      <td>4.4500</td>\n",
       "      <td>11.50</td>\n",
       "    </tr>\n",
       "    <tr>\n",
       "      <th>wind_direction</th>\n",
       "      <td>8760.0</td>\n",
       "      <td>252.021005</td>\n",
       "      <td>79.288235</td>\n",
       "      <td>0.00</td>\n",
       "      <td>185.0000</td>\n",
       "      <td>291.00</td>\n",
       "      <td>315.0000</td>\n",
       "      <td>360.00</td>\n",
       "    </tr>\n",
       "    <tr>\n",
       "      <th>pressure</th>\n",
       "      <td>8760.0</td>\n",
       "      <td>98577.318037</td>\n",
       "      <td>777.685085</td>\n",
       "      <td>95662.00</td>\n",
       "      <td>98103.0000</td>\n",
       "      <td>98568.00</td>\n",
       "      <td>99068.0000</td>\n",
       "      <td>100770.00</td>\n",
       "    </tr>\n",
       "  </tbody>\n",
       "</table>\n",
       "</div>"
      ],
      "text/plain": [
       "                    count          mean         std       min         25%  \\\n",
       "temp_air           8760.0     15.158910    7.127826     -4.49     10.1600   \n",
       "relative_humidity  8760.0     76.830857   16.476023     27.07     65.0675   \n",
       "ghi                8760.0    155.585919  239.517266      0.00      0.0000   \n",
       "dni                8760.0    157.239387  271.987149      0.00      0.0000   \n",
       "dhi                8760.0     69.294155   98.825464      0.00      0.0000   \n",
       "IR(h)              8760.0    304.853515   45.508030    186.55    270.0300   \n",
       "wind_speed         8760.0      3.301823    1.907680      0.04      1.8800   \n",
       "wind_direction     8760.0    252.021005   79.288235      0.00    185.0000   \n",
       "pressure           8760.0  98577.318037  777.685085  95662.00  98103.0000   \n",
       "\n",
       "                        50%         75%        max  \n",
       "temp_air              15.00     20.0700      37.21  \n",
       "relative_humidity     80.30     90.8425     100.00  \n",
       "ghi                    0.00    240.0125     993.00  \n",
       "dni                    0.00    211.5850    1032.41  \n",
       "dhi                    0.00    119.0000     468.00  \n",
       "IR(h)                304.89    343.9000     407.80  \n",
       "wind_speed             2.79      4.4500      11.50  \n",
       "wind_direction       291.00    315.0000     360.00  \n",
       "pressure           98568.00  99068.0000  100770.00  "
      ]
     },
     "execution_count": 8,
     "metadata": {},
     "output_type": "execute_result"
    }
   ],
   "source": [
    "df_weather.describe(include='all').transpose()"
   ]
  },
  {
   "cell_type": "code",
   "execution_count": 9,
   "metadata": {},
   "outputs": [
    {
     "data": {
      "text/html": [
       "<div>\n",
       "<style scoped>\n",
       "    .dataframe tbody tr th:only-of-type {\n",
       "        vertical-align: middle;\n",
       "    }\n",
       "\n",
       "    .dataframe tbody tr th {\n",
       "        vertical-align: top;\n",
       "    }\n",
       "\n",
       "    .dataframe thead th {\n",
       "        text-align: right;\n",
       "    }\n",
       "</style>\n",
       "<table border=\"1\" class=\"dataframe\">\n",
       "  <thead>\n",
       "    <tr style=\"text-align: right;\">\n",
       "      <th></th>\n",
       "      <th>temp_air</th>\n",
       "      <th>relative_humidity</th>\n",
       "      <th>ghi</th>\n",
       "      <th>dni</th>\n",
       "      <th>dhi</th>\n",
       "      <th>IR(h)</th>\n",
       "      <th>wind_speed</th>\n",
       "      <th>wind_direction</th>\n",
       "      <th>pressure</th>\n",
       "    </tr>\n",
       "    <tr>\n",
       "      <th>time(UTC)</th>\n",
       "      <th></th>\n",
       "      <th></th>\n",
       "      <th></th>\n",
       "      <th></th>\n",
       "      <th></th>\n",
       "      <th></th>\n",
       "      <th></th>\n",
       "      <th></th>\n",
       "      <th></th>\n",
       "    </tr>\n",
       "  </thead>\n",
       "  <tbody>\n",
       "    <tr>\n",
       "      <th>2005-01-01 00:00:00+00:00</th>\n",
       "      <td>9.12</td>\n",
       "      <td>98.04</td>\n",
       "      <td>0.0</td>\n",
       "      <td>0.0</td>\n",
       "      <td>0.0</td>\n",
       "      <td>282.64</td>\n",
       "      <td>1.94</td>\n",
       "      <td>304.0</td>\n",
       "      <td>99986.0</td>\n",
       "    </tr>\n",
       "    <tr>\n",
       "      <th>2005-01-01 01:00:00+00:00</th>\n",
       "      <td>9.02</td>\n",
       "      <td>98.05</td>\n",
       "      <td>0.0</td>\n",
       "      <td>0.0</td>\n",
       "      <td>0.0</td>\n",
       "      <td>276.86</td>\n",
       "      <td>2.08</td>\n",
       "      <td>304.0</td>\n",
       "      <td>99986.0</td>\n",
       "    </tr>\n",
       "    <tr>\n",
       "      <th>2005-01-01 02:00:00+00:00</th>\n",
       "      <td>8.92</td>\n",
       "      <td>98.06</td>\n",
       "      <td>0.0</td>\n",
       "      <td>0.0</td>\n",
       "      <td>0.0</td>\n",
       "      <td>271.09</td>\n",
       "      <td>2.23</td>\n",
       "      <td>304.0</td>\n",
       "      <td>99986.0</td>\n",
       "    </tr>\n",
       "    <tr>\n",
       "      <th>2005-01-01 03:00:00+00:00</th>\n",
       "      <td>8.82</td>\n",
       "      <td>98.07</td>\n",
       "      <td>0.0</td>\n",
       "      <td>0.0</td>\n",
       "      <td>0.0</td>\n",
       "      <td>265.31</td>\n",
       "      <td>2.37</td>\n",
       "      <td>304.0</td>\n",
       "      <td>99964.0</td>\n",
       "    </tr>\n",
       "    <tr>\n",
       "      <th>2005-01-01 04:00:00+00:00</th>\n",
       "      <td>8.72</td>\n",
       "      <td>98.08</td>\n",
       "      <td>0.0</td>\n",
       "      <td>0.0</td>\n",
       "      <td>0.0</td>\n",
       "      <td>259.54</td>\n",
       "      <td>2.51</td>\n",
       "      <td>304.0</td>\n",
       "      <td>99941.0</td>\n",
       "    </tr>\n",
       "  </tbody>\n",
       "</table>\n",
       "</div>"
      ],
      "text/plain": [
       "                           temp_air  relative_humidity  ghi  dni  dhi   IR(h)  \\\n",
       "time(UTC)                                                                       \n",
       "2005-01-01 00:00:00+00:00      9.12              98.04  0.0  0.0  0.0  282.64   \n",
       "2005-01-01 01:00:00+00:00      9.02              98.05  0.0  0.0  0.0  276.86   \n",
       "2005-01-01 02:00:00+00:00      8.92              98.06  0.0  0.0  0.0  271.09   \n",
       "2005-01-01 03:00:00+00:00      8.82              98.07  0.0  0.0  0.0  265.31   \n",
       "2005-01-01 04:00:00+00:00      8.72              98.08  0.0  0.0  0.0  259.54   \n",
       "\n",
       "                           wind_speed  wind_direction  pressure  \n",
       "time(UTC)                                                        \n",
       "2005-01-01 00:00:00+00:00        1.94           304.0   99986.0  \n",
       "2005-01-01 01:00:00+00:00        2.08           304.0   99986.0  \n",
       "2005-01-01 02:00:00+00:00        2.23           304.0   99986.0  \n",
       "2005-01-01 03:00:00+00:00        2.37           304.0   99964.0  \n",
       "2005-01-01 04:00:00+00:00        2.51           304.0   99941.0  "
      ]
     },
     "execution_count": 9,
     "metadata": {},
     "output_type": "execute_result"
    }
   ],
   "source": [
    "df_weather.head(5)"
   ]
  },
  {
   "cell_type": "code",
   "execution_count": 10,
   "metadata": {},
   "outputs": [
    {
     "data": {
      "text/plain": [
       "Text(0, 0.5, 'Irradiance [W/m²]')"
      ]
     },
     "execution_count": 10,
     "metadata": {},
     "output_type": "execute_result"
    },
    {
     "data": {
      "image/png": "[encoded data removed]",
      "text/plain": [
       "<Figure size 432x288 with 1 Axes>"
      ]
     },
     "metadata": {
      "needs_background": "light"
     },
     "output_type": "display_data"
    }
   ],
   "source": [
    "# Irradiance\n",
    "\n",
    "first_week = df_weather.head(24*7)  # Plotting 7 days, each one has 24 hours or entries\n",
    "first_week[['ghi', 'dni', 'dhi']].plot()\n",
    "plt.ylabel('Irradiance [W/m²]')"
   ]
  },
  {
   "cell_type": "code",
   "execution_count": 11,
   "metadata": {},
   "outputs": [
    {
     "name": "stdout",
     "output_type": "stream",
     "text": [
      "Pechbusque\n",
      "GHI annuel : 1363 kWh/an\n",
      "DNI annuel : 1377 kWh/an\n",
      "DHI annuel : 607 kWh/an\n"
     ]
    }
   ],
   "source": [
    "print(f\"{lieu}\")\n",
    "print(f\"GHI annuel : {df_weather['ghi'].sum()/1000:.0f} kWh/an\")\n",
    "print(f\"DNI annuel : {df_weather['dni'].sum()/1000:.0f} kWh/an\")\n",
    "print(f\"DHI annuel : {df_weather['dhi'].sum()/1000:.0f} kWh/an\")"
   ]
  },
  {
   "cell_type": "code",
   "execution_count": 12,
   "metadata": {},
   "outputs": [],
   "source": [
    "# travail sur le format : on force tous les timestamps pour avoir la même année : 2023\n",
    "\n",
    "new_index_to_2023 = [ datetime.datetime(2023, d.month, d.day, d.hour, d.minute, tzinfo=d.tzinfo) for d in df_weather.index ]\n",
    "new_index_to_2023 = pd.DatetimeIndex(new_index_to_2023)\n",
    "\n",
    "df_weather = df_weather.set_index(new_index_to_2023)"
   ]
  },
  {
   "cell_type": "code",
   "execution_count": 13,
   "metadata": {},
   "outputs": [
    {
     "data": {
      "image/png": "[encoded data removed]",
      "text/plain": [
       "<Figure size 432x288 with 1 Axes>"
      ]
     },
     "metadata": {
      "needs_background": "light"
     },
     "output_type": "display_data"
    }
   ],
   "source": [
    "# données mensuelles\n",
    "\n",
    "monthly_ghi = df_weather['ghi'].resample('M').sum()/1000  # NB : nécessite d'avoir la même année, sinon le resampling produit plus de 12 lignes\n",
    "monthly_ghi = monthly_ghi.tz_localize(None)  # pour afficher sans la tz\n",
    "\n",
    "monthly_ghi.plot.bar()\n",
    "\n",
    "plt.ylabel('Monthly Global Horizontal Irradiance\\n[kWh/m²]');"
   ]
  },
  {
   "cell_type": "markdown",
   "metadata": {},
   "source": [
    "# POA Irradiance\n",
    "\n",
    "https://pvsc-python-tutorials.github.io/PVSC48-Python-Tutorial/Tutorial%202%20-%20POA%20Irradiance.html"
   ]
  },
  {
   "cell_type": "code",
   "execution_count": 14,
   "metadata": {},
   "outputs": [],
   "source": [
    "# instancie un objet Location de pvlib\n",
    "\n",
    "location = pvlib.location.Location(latitude=latitude,\n",
    "                                   longitude=longitude,\n",
    "                                   altitude=altitude,\n",
    "                                   name=lieu,\n",
    "                                   tz=time_zone\n",
    ")"
   ]
  },
  {
   "cell_type": "code",
   "execution_count": 15,
   "metadata": {},
   "outputs": [
    {
     "data": {
      "text/html": [
       "<div>\n",
       "<style scoped>\n",
       "    .dataframe tbody tr th:only-of-type {\n",
       "        vertical-align: middle;\n",
       "    }\n",
       "\n",
       "    .dataframe tbody tr th {\n",
       "        vertical-align: top;\n",
       "    }\n",
       "\n",
       "    .dataframe thead th {\n",
       "        text-align: right;\n",
       "    }\n",
       "</style>\n",
       "<table border=\"1\" class=\"dataframe\">\n",
       "  <thead>\n",
       "    <tr style=\"text-align: right;\">\n",
       "      <th></th>\n",
       "      <th>apparent_zenith</th>\n",
       "      <th>zenith</th>\n",
       "      <th>apparent_elevation</th>\n",
       "      <th>elevation</th>\n",
       "      <th>azimuth</th>\n",
       "      <th>equation_of_time</th>\n",
       "    </tr>\n",
       "  </thead>\n",
       "  <tbody>\n",
       "    <tr>\n",
       "      <th>2023-01-01 00:00:00+00:00</th>\n",
       "      <td>158.765032</td>\n",
       "      <td>158.765032</td>\n",
       "      <td>-68.765032</td>\n",
       "      <td>-68.765032</td>\n",
       "      <td>342.413453</td>\n",
       "      <td>-3.177534</td>\n",
       "    </tr>\n",
       "    <tr>\n",
       "      <th>2023-01-01 01:00:00+00:00</th>\n",
       "      <td>158.443328</td>\n",
       "      <td>158.443328</td>\n",
       "      <td>-68.443328</td>\n",
       "      <td>-68.443328</td>\n",
       "      <td>20.835977</td>\n",
       "      <td>-3.197268</td>\n",
       "    </tr>\n",
       "    <tr>\n",
       "      <th>2023-01-01 02:00:00+00:00</th>\n",
       "      <td>152.008806</td>\n",
       "      <td>152.008806</td>\n",
       "      <td>-62.008806</td>\n",
       "      <td>-62.008806</td>\n",
       "      <td>50.456864</td>\n",
       "      <td>-3.216993</td>\n",
       "    </tr>\n",
       "    <tr>\n",
       "      <th>2023-01-01 03:00:00+00:00</th>\n",
       "      <td>142.579424</td>\n",
       "      <td>142.579424</td>\n",
       "      <td>-52.579424</td>\n",
       "      <td>-52.579424</td>\n",
       "      <td>69.325124</td>\n",
       "      <td>-3.236709</td>\n",
       "    </tr>\n",
       "    <tr>\n",
       "      <th>2023-01-01 04:00:00+00:00</th>\n",
       "      <td>132.038408</td>\n",
       "      <td>132.038408</td>\n",
       "      <td>-42.038408</td>\n",
       "      <td>-42.038408</td>\n",
       "      <td>82.546649</td>\n",
       "      <td>-3.256415</td>\n",
       "    </tr>\n",
       "  </tbody>\n",
       "</table>\n",
       "</div>"
      ],
      "text/plain": [
       "                           apparent_zenith      zenith  apparent_elevation  \\\n",
       "2023-01-01 00:00:00+00:00       158.765032  158.765032          -68.765032   \n",
       "2023-01-01 01:00:00+00:00       158.443328  158.443328          -68.443328   \n",
       "2023-01-01 02:00:00+00:00       152.008806  152.008806          -62.008806   \n",
       "2023-01-01 03:00:00+00:00       142.579424  142.579424          -52.579424   \n",
       "2023-01-01 04:00:00+00:00       132.038408  132.038408          -42.038408   \n",
       "\n",
       "                           elevation     azimuth  equation_of_time  \n",
       "2023-01-01 00:00:00+00:00 -68.765032  342.413453         -3.177534  \n",
       "2023-01-01 01:00:00+00:00 -68.443328   20.835977         -3.197268  \n",
       "2023-01-01 02:00:00+00:00 -62.008806   50.456864         -3.216993  \n",
       "2023-01-01 03:00:00+00:00 -52.579424   69.325124         -3.236709  \n",
       "2023-01-01 04:00:00+00:00 -42.038408   82.546649         -3.256415  "
      ]
     },
     "execution_count": 15,
     "metadata": {},
     "output_type": "execute_result"
    }
   ],
   "source": [
    "# calcul de la position du soleil, au milieu (30 mins) de chaque intervalle horaire\n",
    "\n",
    "times = df_weather.index - pd.Timedelta('30min')\n",
    "solar_position = location.get_solarposition(times)\n",
    "# but remember to shift the index back to line up with the TMY data:\n",
    "solar_position.index += pd.Timedelta('30min')\n",
    "\n",
    "solar_position.head()"
   ]
  },
  {
   "cell_type": "code",
   "execution_count": 16,
   "metadata": {},
   "outputs": [],
   "source": [
    "# POA geometry definition\n",
    "\n",
    "tilts = {\n",
    "    'dome_solar_tilt0' : 0.0,\n",
    "    'flat_fix_fusion' : 13.0,\n",
    "    'optimum' : 37.0\n",
    "}\n",
    "\n",
    "azimuth = 180"
   ]
  },
  {
   "cell_type": "code",
   "execution_count": 24,
   "metadata": {},
   "outputs": [],
   "source": [
    "# calcule les valeurs horaires de l'irradiance POA pour les différents paramètres géométriques\n",
    "\n",
    "dfs_poa ={}\n",
    "\n",
    "for k,tilt in tilts.items():\n",
    "    dfs_poa[k] = pvlib.irradiance.get_total_irradiance(\n",
    "        surface_tilt=tilt,\n",
    "        surface_azimuth=azimuth,\n",
    "        dni=df_weather['dni'],\n",
    "        ghi=df_weather['ghi'],\n",
    "        dhi=df_weather['dhi'],\n",
    "        solar_zenith=solar_position['apparent_zenith'],\n",
    "        solar_azimuth=solar_position['azimuth'],\n",
    "        model='isotropic'\n",
    "    )"
   ]
  },
  {
   "cell_type": "code",
   "execution_count": 29,
   "metadata": {},
   "outputs": [
    {
     "data": {
      "image/png": "[encoded data removed]",
      "text/plain": [
       "<Figure size 720x720 with 1 Axes>"
      ]
     },
     "metadata": {
      "needs_background": "light"
     },
     "output_type": "display_data"
    }
   ],
   "source": [
    "data = { k : dfs_poa.get(k)['poa_global'] for k in tilts.keys() }\n",
    "\n",
    "for k, df in dfs_poa.items():\n",
    "    df_monthly = df.resample('M').sum()/1000.0\n",
    "    data[k] = df_monthly['poa_global']\n",
    "    \n",
    "df_summary = pd.DataFrame(data)\n",
    "\n",
    "df_summary = df_summary.resample('M').sum()\n",
    "\n",
    "fig, ax = plt.subplots(figsize=(10,10))\n",
    "df_summary.plot.bar(ax = ax)\n",
    "plt.ylabel('Energie mensuelle POA (Wh/m²)')\n",
    "plt.show()"
   ]
  },
  {
   "cell_type": "code",
   "execution_count": 31,
   "metadata": {},
   "outputs": [
    {
     "name": "stdout",
     "output_type": "stream",
     "text": [
      "\n",
      "dome_solar_tilt0\n",
      "POA global annuel = 1357 kWh/m² \n",
      "\n",
      "flat_fix_fusion\n",
      "POA global annuel = 1463 kWh/m² \n",
      "\n",
      "optimum\n",
      "POA global annuel = 1526 kWh/m² \n"
     ]
    }
   ],
   "source": [
    "for k, df in dfs_poa.items():\n",
    "    print(f\"\\n{k}\")\n",
    "    print(f\"POA global annuel = {df['poa_global'].sum()/1000:.0f} kWh/m² \")"
   ]
  },
  {
   "cell_type": "code",
   "execution_count": null,
   "metadata": {},
   "outputs": [],
   "source": [
    "# This plot shows that, compared with a flat array, a tilted array receives significantly more insolation in the winter.\n",
    "# However, it comes at the cost of slightly less insolation in the summer. \n",
    "# The difference is all about solar position – tilting up from horizontal gives a better match to solar position in winter, when the sun is low in the sky. \n",
    "# However it gives a slightly worse match in summer when the sun is very high in the sky."
   ]
  },
  {
   "cell_type": "markdown",
   "metadata": {},
   "source": [
    "# Module Temperature\n",
    "\n",
    "https://pvsc-python-tutorials.github.io/PVSC48-Python-Tutorial/Tutorial%203%20-%20Module%20Temperature.html"
   ]
  },
  {
   "cell_type": "code",
   "execution_count": null,
   "metadata": {},
   "outputs": [],
   "source": []
  },
  {
   "cell_type": "code",
   "execution_count": null,
   "metadata": {},
   "outputs": [],
   "source": []
  },
  {
   "cell_type": "code",
   "execution_count": null,
   "metadata": {},
   "outputs": [],
   "source": []
  },
  {
   "cell_type": "code",
   "execution_count": null,
   "metadata": {},
   "outputs": [],
   "source": []
  },
  {
   "cell_type": "code",
   "execution_count": null,
   "metadata": {},
   "outputs": [],
   "source": []
  },
  {
   "cell_type": "code",
   "execution_count": null,
   "metadata": {},
   "outputs": [],
   "source": []
  },
  {
   "cell_type": "code",
   "execution_count": null,
   "metadata": {},
   "outputs": [],
   "source": []
  },
  {
   "cell_type": "code",
   "execution_count": null,
   "metadata": {},
   "outputs": [],
   "source": []
  },
  {
   "cell_type": "code",
   "execution_count": null,
   "metadata": {},
   "outputs": [],
   "source": []
  },
  {
   "cell_type": "code",
   "execution_count": null,
   "metadata": {},
   "outputs": [],
   "source": []
  },
  {
   "cell_type": "code",
   "execution_count": null,
   "metadata": {},
   "outputs": [],
   "source": []
  },
  {
   "cell_type": "code",
   "execution_count": null,
   "metadata": {},
   "outputs": [],
   "source": []
  },
  {
   "cell_type": "code",
   "execution_count": null,
   "metadata": {},
   "outputs": [],
   "source": []
  },
  {
   "cell_type": "code",
   "execution_count": null,
   "metadata": {},
   "outputs": [],
   "source": []
  },
  {
   "cell_type": "code",
   "execution_count": null,
   "metadata": {},
   "outputs": [],
   "source": []
  },
  {
   "cell_type": "code",
   "execution_count": null,
   "metadata": {},
   "outputs": [],
   "source": []
  },
  {
   "cell_type": "code",
   "execution_count": null,
   "metadata": {},
   "outputs": [],
   "source": []
  },
  {
   "cell_type": "code",
   "execution_count": null,
   "metadata": {},
   "outputs": [],
   "source": []
  },
  {
   "cell_type": "code",
   "execution_count": null,
   "metadata": {},
   "outputs": [],
   "source": []
  },
  {
   "cell_type": "code",
   "execution_count": null,
   "metadata": {},
   "outputs": [],
   "source": []
  },
  {
   "cell_type": "code",
   "execution_count": null,
   "metadata": {},
   "outputs": [],
   "source": []
  },
  {
   "cell_type": "markdown",
   "metadata": {},
   "source": [
    "### 1- Comparaison des modèles METEO"
   ]
  },
  {
   "cell_type": "code",
   "execution_count": 32,
   "metadata": {},
   "outputs": [],
   "source": [
    "# REFERENCE : fichier PV Watts horaire Montpellier, azimuth 180° (sud), tilt 0°.\n",
    "\n",
    "filename = \"c:/Users/benjamin.deporte/Documents/095_Code_Python_Toy/PV/Scenarii/Production/pvwatts_hourly_8505Wc_tilt0_for_NB.csv\"\n",
    "\n",
    "results_pvwatts = pd.read_csv(filename, sep=\";\", header=15, encoding='utf-8', nrows=8760) # dtype=dtype) #, converters=converters)\n",
    "\n",
    "# Solar Irradiance = The total irradiance incident on the plane of photovoltaic array in kilowatt-hours per square meter per day. \n",
    "# PVWatts calculates the monthly and annual values from the hourly plane-of-array irradiance values, \n",
    "# which it calculates from hourly diffuse horizontal irradiance (DHI) and direct normal irradiance (DNI) data in the weather file for the location, \n",
    "# taking into consideration the position of the sun and the orientation of photovoltaic modules in the array."
   ]
  },
  {
   "cell_type": "code",
   "execution_count": 33,
   "metadata": {},
   "outputs": [
    {
     "data": {
      "text/html": [
       "<div>\n",
       "<style scoped>\n",
       "    .dataframe tbody tr th:only-of-type {\n",
       "        vertical-align: middle;\n",
       "    }\n",
       "\n",
       "    .dataframe tbody tr th {\n",
       "        vertical-align: top;\n",
       "    }\n",
       "\n",
       "    .dataframe thead th {\n",
       "        text-align: right;\n",
       "    }\n",
       "</style>\n",
       "<table border=\"1\" class=\"dataframe\">\n",
       "  <thead>\n",
       "    <tr style=\"text-align: right;\">\n",
       "      <th></th>\n",
       "      <th>Month</th>\n",
       "      <th>Day</th>\n",
       "      <th>Hour</th>\n",
       "      <th>Beam Irradiance (W/m^2)</th>\n",
       "      <th>Diffuse Irradiance (W/m^2)</th>\n",
       "      <th>Ambient Temperature (C)</th>\n",
       "      <th>Wind Speed (m/s)</th>\n",
       "      <th>Plane of Array Irradiance (W/m^2)</th>\n",
       "      <th>Cell Temperature (C)</th>\n",
       "      <th>DC Array Output (W)</th>\n",
       "      <th>AC System Output (W)</th>\n",
       "    </tr>\n",
       "  </thead>\n",
       "  <tbody>\n",
       "    <tr>\n",
       "      <th>0</th>\n",
       "      <td>1</td>\n",
       "      <td>1</td>\n",
       "      <td>0</td>\n",
       "      <td>0</td>\n",
       "      <td>0</td>\n",
       "      <td>2.7</td>\n",
       "      <td>3.1</td>\n",
       "      <td>0.0</td>\n",
       "      <td>2.7</td>\n",
       "      <td>0.0</td>\n",
       "      <td>0.0</td>\n",
       "    </tr>\n",
       "    <tr>\n",
       "      <th>1</th>\n",
       "      <td>1</td>\n",
       "      <td>1</td>\n",
       "      <td>1</td>\n",
       "      <td>0</td>\n",
       "      <td>0</td>\n",
       "      <td>4.1</td>\n",
       "      <td>2.7</td>\n",
       "      <td>0.0</td>\n",
       "      <td>4.1</td>\n",
       "      <td>0.0</td>\n",
       "      <td>0.0</td>\n",
       "    </tr>\n",
       "    <tr>\n",
       "      <th>2</th>\n",
       "      <td>1</td>\n",
       "      <td>1</td>\n",
       "      <td>2</td>\n",
       "      <td>0</td>\n",
       "      <td>0</td>\n",
       "      <td>4.8</td>\n",
       "      <td>2.4</td>\n",
       "      <td>0.0</td>\n",
       "      <td>4.8</td>\n",
       "      <td>0.0</td>\n",
       "      <td>0.0</td>\n",
       "    </tr>\n",
       "    <tr>\n",
       "      <th>3</th>\n",
       "      <td>1</td>\n",
       "      <td>1</td>\n",
       "      <td>3</td>\n",
       "      <td>0</td>\n",
       "      <td>0</td>\n",
       "      <td>4.9</td>\n",
       "      <td>2.0</td>\n",
       "      <td>0.0</td>\n",
       "      <td>4.9</td>\n",
       "      <td>0.0</td>\n",
       "      <td>0.0</td>\n",
       "    </tr>\n",
       "    <tr>\n",
       "      <th>4</th>\n",
       "      <td>1</td>\n",
       "      <td>1</td>\n",
       "      <td>4</td>\n",
       "      <td>0</td>\n",
       "      <td>0</td>\n",
       "      <td>4.5</td>\n",
       "      <td>1.0</td>\n",
       "      <td>0.0</td>\n",
       "      <td>4.5</td>\n",
       "      <td>0.0</td>\n",
       "      <td>0.0</td>\n",
       "    </tr>\n",
       "    <tr>\n",
       "      <th>...</th>\n",
       "      <td>...</td>\n",
       "      <td>...</td>\n",
       "      <td>...</td>\n",
       "      <td>...</td>\n",
       "      <td>...</td>\n",
       "      <td>...</td>\n",
       "      <td>...</td>\n",
       "      <td>...</td>\n",
       "      <td>...</td>\n",
       "      <td>...</td>\n",
       "      <td>...</td>\n",
       "    </tr>\n",
       "    <tr>\n",
       "      <th>8755</th>\n",
       "      <td>12</td>\n",
       "      <td>31</td>\n",
       "      <td>19</td>\n",
       "      <td>0</td>\n",
       "      <td>0</td>\n",
       "      <td>-0.3</td>\n",
       "      <td>3.1</td>\n",
       "      <td>0.0</td>\n",
       "      <td>-0.3</td>\n",
       "      <td>0.0</td>\n",
       "      <td>0.0</td>\n",
       "    </tr>\n",
       "    <tr>\n",
       "      <th>8756</th>\n",
       "      <td>12</td>\n",
       "      <td>31</td>\n",
       "      <td>20</td>\n",
       "      <td>0</td>\n",
       "      <td>0</td>\n",
       "      <td>-0.7</td>\n",
       "      <td>1.0</td>\n",
       "      <td>0.0</td>\n",
       "      <td>-0.7</td>\n",
       "      <td>0.0</td>\n",
       "      <td>0.0</td>\n",
       "    </tr>\n",
       "    <tr>\n",
       "      <th>8757</th>\n",
       "      <td>12</td>\n",
       "      <td>31</td>\n",
       "      <td>21</td>\n",
       "      <td>0</td>\n",
       "      <td>0</td>\n",
       "      <td>-0.7</td>\n",
       "      <td>1.0</td>\n",
       "      <td>0.0</td>\n",
       "      <td>-0.7</td>\n",
       "      <td>0.0</td>\n",
       "      <td>0.0</td>\n",
       "    </tr>\n",
       "    <tr>\n",
       "      <th>8758</th>\n",
       "      <td>12</td>\n",
       "      <td>31</td>\n",
       "      <td>22</td>\n",
       "      <td>0</td>\n",
       "      <td>0</td>\n",
       "      <td>-0.1</td>\n",
       "      <td>0.7</td>\n",
       "      <td>0.0</td>\n",
       "      <td>-0.1</td>\n",
       "      <td>0.0</td>\n",
       "      <td>0.0</td>\n",
       "    </tr>\n",
       "    <tr>\n",
       "      <th>8759</th>\n",
       "      <td>12</td>\n",
       "      <td>31</td>\n",
       "      <td>23</td>\n",
       "      <td>0</td>\n",
       "      <td>0</td>\n",
       "      <td>1.2</td>\n",
       "      <td>0.3</td>\n",
       "      <td>0.0</td>\n",
       "      <td>1.2</td>\n",
       "      <td>0.0</td>\n",
       "      <td>0.0</td>\n",
       "    </tr>\n",
       "  </tbody>\n",
       "</table>\n",
       "<p>8760 rows × 11 columns</p>\n",
       "</div>"
      ],
      "text/plain": [
       "      Month  Day  Hour  Beam Irradiance (W/m^2)  Diffuse Irradiance (W/m^2)  \\\n",
       "0         1    1     0                        0                           0   \n",
       "1         1    1     1                        0                           0   \n",
       "2         1    1     2                        0                           0   \n",
       "3         1    1     3                        0                           0   \n",
       "4         1    1     4                        0                           0   \n",
       "...     ...  ...   ...                      ...                         ...   \n",
       "8755     12   31    19                        0                           0   \n",
       "8756     12   31    20                        0                           0   \n",
       "8757     12   31    21                        0                           0   \n",
       "8758     12   31    22                        0                           0   \n",
       "8759     12   31    23                        0                           0   \n",
       "\n",
       "      Ambient Temperature (C)  Wind Speed (m/s)  \\\n",
       "0                         2.7               3.1   \n",
       "1                         4.1               2.7   \n",
       "2                         4.8               2.4   \n",
       "3                         4.9               2.0   \n",
       "4                         4.5               1.0   \n",
       "...                       ...               ...   \n",
       "8755                     -0.3               3.1   \n",
       "8756                     -0.7               1.0   \n",
       "8757                     -0.7               1.0   \n",
       "8758                     -0.1               0.7   \n",
       "8759                      1.2               0.3   \n",
       "\n",
       "      Plane of Array Irradiance (W/m^2)  Cell Temperature (C)  \\\n",
       "0                                   0.0                   2.7   \n",
       "1                                   0.0                   4.1   \n",
       "2                                   0.0                   4.8   \n",
       "3                                   0.0                   4.9   \n",
       "4                                   0.0                   4.5   \n",
       "...                                 ...                   ...   \n",
       "8755                                0.0                  -0.3   \n",
       "8756                                0.0                  -0.7   \n",
       "8757                                0.0                  -0.7   \n",
       "8758                                0.0                  -0.1   \n",
       "8759                                0.0                   1.2   \n",
       "\n",
       "      DC Array Output (W)  AC System Output (W)  \n",
       "0                     0.0                   0.0  \n",
       "1                     0.0                   0.0  \n",
       "2                     0.0                   0.0  \n",
       "3                     0.0                   0.0  \n",
       "4                     0.0                   0.0  \n",
       "...                   ...                   ...  \n",
       "8755                  0.0                   0.0  \n",
       "8756                  0.0                   0.0  \n",
       "8757                  0.0                   0.0  \n",
       "8758                  0.0                   0.0  \n",
       "8759                  0.0                   0.0  \n",
       "\n",
       "[8760 rows x 11 columns]"
      ]
     },
     "execution_count": 33,
     "metadata": {},
     "output_type": "execute_result"
    }
   ],
   "source": [
    "results_pvwatts"
   ]
  },
  {
   "cell_type": "code",
   "execution_count": 34,
   "metadata": {},
   "outputs": [
    {
     "name": "stdout",
     "output_type": "stream",
     "text": [
      "Beam Irradiance = 1319.86 kWh/an\n",
      "Diffuse Irradiance = 665.86 kWh/an\n",
      "POA Irradiance = 1465.45 kWh/an\n"
     ]
    }
   ],
   "source": [
    "# Valeurs annuelles :\n",
    "\n",
    "print(f\"Beam Irradiance = {results_pvwatts['Beam Irradiance (W/m^2)'].sum()/1000:.2f} kWh/an\")\n",
    "print(f\"Diffuse Irradiance = {results_pvwatts['Diffuse Irradiance (W/m^2)'].sum()/1000:.2f} kWh/an\")\n",
    "print(f\"POA Irradiance = {results_pvwatts['Plane of Array Irradiance (W/m^2)'].sum()/1000:.2f} kWh/an\")"
   ]
  },
  {
   "cell_type": "code",
   "execution_count": 35,
   "metadata": {},
   "outputs": [],
   "source": [
    "# Comparaison avec pvlib"
   ]
  },
  {
   "cell_type": "code",
   "execution_count": null,
   "metadata": {},
   "outputs": [],
   "source": [
    "# where is Pechbusque...\n",
    "# latitude, longitude, name, altitude, timezone\n",
    "\n",
    "coordinates = [\n",
    "    (43.58, 3.97, 'Montpellier', 6.0, 'Europe/Paris'),\n",
    "    (43.515, 1.465,'Pechbusque', 279.0, 'Europe/Paris')\n",
    "]"
   ]
  },
  {
   "cell_type": "code",
   "execution_count": null,
   "metadata": {},
   "outputs": [],
   "source": [
    "# récupère météo\n",
    "\n",
    "tmys = []\n",
    "\n",
    "for location in coordinates:\n",
    "    latitude, longitude, name, altitude, timezone = location\n",
    "    weather = pvlib.iotools.get_pvgis_tmy(latitude, longitude, map_variables=True)[0]  # map_variables=True ?!\n",
    "    weather.index.name = \"utc_time\"\n",
    "    \n",
    "    tmys.append(weather)\n",
    "    \n",
    "# tmys[0] est le temps à Montpellier"
   ]
  },
  {
   "cell_type": "code",
   "execution_count": null,
   "metadata": {},
   "outputs": [],
   "source": [
    "tmys[0]"
   ]
  },
  {
   "cell_type": "code",
   "execution_count": null,
   "metadata": {},
   "outputs": [],
   "source": [
    "tmys[1]"
   ]
  },
  {
   "cell_type": "code",
   "execution_count": null,
   "metadata": {},
   "outputs": [],
   "source": [
    "# Valeurs annuelles :\n",
    "\n",
    "print(f\"\\n -- MONTPELLIER (PVGis) --\")\n",
    "print(f\"Direct Normal Irradiance = {tmys[0]['dni'].sum()/1000:.2f} kWh/an\")\n",
    "print(f\"Diffuse Horizontal Irradiance = {tmys[0]['dhi'].sum()/1000:.2f} kWh/an\")\n",
    "print(f\"GHI = {tmys[0]['ghi'].sum()/1000:.2f} kWh/an\")\n",
    "\n",
    "print(f\"\\n -- PECHBUSQUE (PVGis) --\")\n",
    "print(f\"Direct Normal Irradiance = {tmys[1]['dni'].sum()/1000:.2f} kWh/an\")\n",
    "print(f\"Diffuse Horizontal Irradiance = {tmys[1]['dhi'].sum()/1000:.2f} kWh/an\")\n",
    "print(f\"GHI = {tmys[1]['ghi'].sum()/1000:.2f} kWh/an -- vs 1425 kWh/an sur le site PVGis\")"
   ]
  },
  {
   "cell_type": "markdown",
   "metadata": {},
   "source": [
    "### Conclusion 1 : \n",
    "- POA Irradiance = GHI ici (tilt 0°C) = 1465 kWh/an PV Watts vs 1588 kWh/an PVGIS (+123 kWh/an)\n",
    "- Diffus : 666 kWh/an PV Watts vs 533 kWh PV GIS (-133 kWh/an)"
   ]
  },
  {
   "cell_type": "markdown",
   "metadata": {},
   "source": [
    "### 2- Comparaison avec Etude SMA"
   ]
  },
  {
   "cell_type": "code",
   "execution_count": null,
   "metadata": {},
   "outputs": [],
   "source": [
    "module_trina_vertex_405_for_pvwatts = {\n",
    "    'pdc0' : 405.0, \n",
    "    'gamma_pdc' : -0.34e-2\n",
    "    }"
   ]
  },
  {
   "cell_type": "code",
   "execution_count": null,
   "metadata": {},
   "outputs": [],
   "source": [
    "inverter_sma_tri_TL_8kVA_for_pvwatts = {\n",
    "    'pdc0' : 15000.0,\n",
    "    'eta_inv_nom' : 0.98,\n",
    "    'eta_inv_ref' : 0.98\n",
    "}"
   ]
  },
  {
   "cell_type": "code",
   "execution_count": null,
   "metadata": {},
   "outputs": [],
   "source": [
    "losses_parameters_for_pvwatts = {\n",
    "    'losses' : 14.08\n",
    "        # float(pvlib.pvsystem.pvwatts_losses())\n",
    "    }\n",
    "\n",
    "array_losses_parameters_for_pvwatts = {\n",
    "    'dc_ohmic_percent' : 1.0\n",
    "}"
   ]
  },
  {
   "cell_type": "code",
   "execution_count": null,
   "metadata": {},
   "outputs": [],
   "source": [
    "# Construction d'un système avec algorythme PV Watts\n",
    "\n",
    "from pvlib.pvsystem import PVSystem, Array, FixedMount\n",
    "from pvlib.location import Location\n",
    "from pvlib.modelchain import ModelChain\n",
    "\n",
    "results = {}\n",
    "\n",
    "temperature_model_parameters = pvlib.temperature.TEMPERATURE_MODEL_PARAMETERS['sapm']['open_rack_glass_glass']\n",
    "\n",
    "for location, weather in zip(coordinates, tmys):\n",
    "    latitude, longitude, name, altitude, timezone = location\n",
    "    \n",
    "    location = Location(\n",
    "        latitude,\n",
    "        longitude,\n",
    "        name=name,\n",
    "        altitude=altitude,\n",
    "        tz=timezone,\n",
    "    )\n",
    "    \n",
    "    mount = FixedMount(surface_tilt=0.0, surface_azimuth=180.0)\n",
    "    \n",
    "    array = Array(\n",
    "        mount=mount,\n",
    "        module_parameters=module_trina_vertex_405_for_pvwatts,\n",
    "        temperature_model_parameters=temperature_model_parameters,\n",
    "        modules_per_string=21,\n",
    "        strings=1,\n",
    "        array_losses_parameters=array_losses_parameters_for_pvwatts\n",
    "    )\n",
    "      \n",
    "    system = PVSystem(arrays=[array],\n",
    "                      inverter_parameters=inverter_sma_tri_TL_8kVA_for_pvwatts,\n",
    "                      losses_parameters=losses_parameters_for_pvwatts\n",
    "                      )\n",
    "    \n",
    "    \n",
    "    mc = ModelChain.with_pvwatts(system,\n",
    "                                 location\n",
    "                                 )\n",
    "    \n",
    "    mc.run_model(weather)\n",
    "        \n",
    "    results[name] = mc.results"
   ]
  },
  {
   "cell_type": "code",
   "execution_count": null,
   "metadata": {},
   "outputs": [],
   "source": [
    "r = results['Montpellier']"
   ]
  },
  {
   "cell_type": "code",
   "execution_count": null,
   "metadata": {},
   "outputs": [],
   "source": [
    "# On regarde d'abord ce que le modèle a utilisé comme irradiance...\n",
    "\n",
    "r.total_irrad"
   ]
  },
  {
   "cell_type": "code",
   "execution_count": null,
   "metadata": {},
   "outputs": [],
   "source": [
    "list_poa = ['poa_global', 'poa_direct', 'poa_diffuse', 'poa_sky_diffuse', 'poa_ground_diffuse']\n",
    "\n",
    "for p in list_poa:\n",
    "    print (f\"{p} = {r.total_irrad[p].sum()/1000:.2f} kWh/an\")\n"
   ]
  },
  {
   "cell_type": "code",
   "execution_count": null,
   "metadata": {},
   "outputs": [],
   "source": [
    "# on regarde maintenant la sortie DC\n",
    "\n",
    "r.dc"
   ]
  },
  {
   "cell_type": "code",
   "execution_count": null,
   "metadata": {},
   "outputs": [],
   "source": [
    "print(f\"DC Output = {r.dc.sum()/1000:.2f} kWh/an\")"
   ]
  },
  {
   "cell_type": "code",
   "execution_count": null,
   "metadata": {},
   "outputs": [],
   "source": [
    "print(f\"AC Output = {r.ac.sum()/1000:.2f} kWh/an\")"
   ]
  },
  {
   "cell_type": "code",
   "execution_count": null,
   "metadata": {},
   "outputs": [],
   "source": []
  },
  {
   "cell_type": "code",
   "execution_count": null,
   "metadata": {},
   "outputs": [],
   "source": []
  },
  {
   "cell_type": "code",
   "execution_count": null,
   "metadata": {},
   "outputs": [],
   "source": []
  },
  {
   "cell_type": "code",
   "execution_count": null,
   "metadata": {},
   "outputs": [],
   "source": [
    "#-----------------------------------------------------------------------------------------------------\n",
    "# données module Trina : sources = datasheet Trina, base CEC, autres info reprises de la db SAM\n",
    "#-----------------------------------------------------------------------------------------------------\n",
    "\n",
    "module_trina_vertex_405 = {\n",
    "    \"Vintage\" : 2021,  # datasheet info\n",
    "    \"Area\" : 1.91,\n",
    "    \"Material\" : \"Mono-c-Si\", # datasheet info\n",
    "    \"Cells_in_Series\" : 60, # CEC database info\n",
    "    \"Parallel_Strings\" : 2, # CEC database info\n",
    "    \"Isco\" : 12.34, # short circuit current : datasheet info\n",
    "    \"Voco\" : 41.4, # open circuit voltage : datasheet info\n",
    "    \"Impo\" : 11.77, # max power current : datasheet info\n",
    "    \"Vmpo\" : 34.4, # max power voltage : datasheet info\n",
    "    \"Aisc\" : 0.0004, # short circuit temperature coefficient : datasheet info plus pénalisante que CEC info\n",
    "    \"Aimp\" : 0.0004, # maximum power temperature coefficient : inconnu, on reconduit Aisc\n",
    "    \"C0\" : 1.01284, # coefficients relating Im p to G : ?\n",
    "    \"C1\" : -0.01284, # coefficients relating Im p to G : ?\n",
    "    \"Bvoco\" : -0.266, # open circuit temperature coefficient : CEC info plus pénalisante que datasheet info \n",
    "    \"Mbvoc\" : 0, # relates βoc,re f to effective irradiance : 0 ?\n",
    "    \"Bvmpo\" : -0.266, # maximum power voltage temperature coefficient : inconnnu, on reconduit Bvoco\n",
    "    \"Mbvmp\" : 0, # relates βm p,re f to effective irradiance : 0 ?\n",
    "    \"N\" : 1.4032, # diode factor : ?\n",
    "    \"C2\" : 0.279317, # coefficients relating Vm p to G : ?\n",
    "    \"C3\" : -7.24463, # coefficients relating Vm p to G : ?\n",
    "    \"A0\" : 0.928385, # air mass coefficients 0...4 - spectral effects on Isc to the variation of air mass over the day - ?\n",
    "    \"A1\" : 0.068093, # air mass coefficients 0...4 - spectral effects on Isc to the variation of air mass over the day - ?\n",
    "    \"A2\" : -0.015774, # air mass coefficients 0...4 - spectral effects on Isc to the variation of air mass over the day - ?\n",
    "    \"A3\" : 0.001661, # air mass coefficients 0...4 - spectral effects on Isc to the variation of air mass over the day - ?\n",
    "    \"A4\" : -0.000069, # air mass coefficients 0...4 - spectral effects on Isc to the variation of air mass over the day - ?\n",
    "    \"B0\" : 1, # incidence angle modifier coefficients 0...5 - optical effects on Isc to the angle of incidence AOI (Section 5.1) - ?\n",
    "    \"B1\" : -0.002438, # incidence angle modifier coefficients 0...5 - optical effects on Isc to the angle of incidence AOI (Section 5.1) - ?\n",
    "    \"B2\" : 0.00031, # incidence angle modifier coefficients 0...5 - optical effects on Isc to the angle of incidence AOI (Section 5.1) - ?\n",
    "    \"B3\" : -0.000012, # incidence angle modifier coefficients 0...5 - optical effects on Isc to the angle of incidence AOI (Section 5.1) - ?\n",
    "    \"B4\" : 0.0, # incidence angle modifier coefficients 0...5 - optical effects on Isc to the angle of incidence AOI (Section 5.1) - ?\n",
    "    \"B5\" : -0.0, # incidence angle modifier coefficients 0...5 - optical effects on Isc to the angle of incidence AOI (Section 5.1) - ?\n",
    "    \"DTC\" : 3.0, # ??\n",
    "    \"FD\" : 1, # fraction of diffuse irradiance used by module\n",
    "    \"A\" : -3.40641, # ??\n",
    "    \"B\" : -0.084208, # ??\n",
    "    \"C4\" : 0.996446, # coefficients relating Ix to G : ?\n",
    "    \"C5\" : 0.003554, # coefficients relating Ix to G : ?\n",
    "    \"IXO\" : 4.97599, # ?\n",
    "    \"IXXO\" : 3.18803, # ?\n",
    "    \"C6\" : 1.15535, # coefficients relating Ixx to G : ?\n",
    "    \"C7\" : -0.155353, # coefficients relating Ixx to G : ?\n",
    "    \"Notes\" : \"Format SAM model, Source: CEC database, 11-Aug-2022\",\n",
    "    \"Name\" : \"Trina_Vertex_405Wc_TSM-DE09\"\n",
    "}"
   ]
  },
  {
   "cell_type": "code",
   "execution_count": null,
   "metadata": {},
   "outputs": [],
   "source": [
    "#-----------------------------------------------------------------------------------------------------\n",
    "#--- Onduleur Référence : SMA Tripower 8.0 -----------------------------------------------------------\n",
    "#-----------------------------------------------------------------------------------------------------\n",
    "\n",
    "inverter_sma_tri_TL_8kVA = {\n",
    "    \"Vac\" : 480.0, # Nominal voltage, -- inchangé -- essai à 230 : non, essai à 380 neg ; essai à 480\n",
    "    \"Pso\" : 44.0, # Power consumption during operation -- inchangé\n",
    "    \"Paco\" : 8000.0, # Maximum AC power - ok\n",
    "    \"Pdco\" : 15000.0, # Maximum DC power - changé de 12000 à 15000\n",
    "    \"Vdco\" : 580.0, # Nominal DC voltage - changé de 600 à 580\n",
    "    \"C0\" : -7.06449e-07, # Curvature between AC power and DC power W−1 : data du SMA STP 12000TL db CEC -- inchangé\n",
    "    \"C1\" : -3.5e-05, # Coefficient of Pd c,0 variation with DC input voltage V−1 : data du SMA STP 12000TL db CEC -- inchangé\n",
    "    \"C2\" : -0.000328, # Coefficient of Pso variation with DC input voltage V−1 : data du SMA STP 12000TL db CEC -- inchangé\n",
    "    \"C3\" : -0.001748, # Coefficient of C0 variation with DC input voltage V−1 : data du SMA STP 12000TL db CEC -- inchangé\n",
    "    \"Pnt\" : 3.6, # Inverter night time loss : ? -- inchangé -- essai à 3.6\n",
    "    \"Vdcmax\" : 1000.0, # Maximum DC voltage -- ok\n",
    "    \"Idcmax\" : 20.0, # Maximum DC current -- ok\n",
    "    \"Mppt_low\" : 260.0, # min MPP voltage -- changé de 330 à 260\n",
    "    \"Mppt_high\" : 800.0, # max MPP voltage -- inchangé\n",
    "    \"CEC_Date\" : \"N/A\",\n",
    "    \"CEC_Type\" : \"N/A\"\n",
    "}"
   ]
  },
  {
   "cell_type": "code",
   "execution_count": null,
   "metadata": {},
   "outputs": [],
   "source": [
    "#-----------------------------------------------------------------------------------------------------\n",
    "#--- Onduleur SMA Tripower Smart Energy --------------------------------------------------------------\n",
    "#-----------------------------------------------------------------------------------------------------\n",
    "\n",
    "inverter_sma_tripower_sme = {\n",
    "    \"Vac\" : 230.0, # Nominal voltage,\n",
    "    \"Pso\" : 44.0, # Power consumption during operation\n",
    "    \"Paco\" : 8000.0, # Maximum AC power\n",
    "    \"Pdco\" : 12000.0, # Maximum DC power\n",
    "    \"Vdco\" : 600.0, # Nominal DC voltage\n",
    "    \"C0\" : -7.06449e-07, # Curvature between AC power and DC power W−1 : data du SMA STP 12000TL db CEC\n",
    "    \"C1\" : -3.5e-05, # Coefficient of Pd c,0 variation with DC input voltage V−1 : data du SMA STP 12000TL db CEC\n",
    "    \"C2\" : -0.000328, # Coefficient of Pso variation with DC input voltage V−1 : data du SMA STP 12000TL db CEC\n",
    "    \"C3\" : -0.001748, # Coefficient of C0 variation with DC input voltage V−1 : data du SMA STP 12000TL db CEC\n",
    "    \"Pnt\" : 0.075, # Inverter night time loss : ?\n",
    "    \"Vdcmax\" : 1000.0, # Maximum DC voltage\n",
    "    \"Idcmax\" : 20.0, # Maximum DC current\n",
    "    \"Mppt_low\" : 330.0, # min MPP voltage\n",
    "    \"Mppt_high\" : 800.0, # max MPP voltage\n",
    "    \"CEC_Date\" : \"N/A\",\n",
    "    \"CEC_Type\" : \"N/A\"\n",
    "}"
   ]
  },
  {
   "cell_type": "code",
   "execution_count": null,
   "metadata": {},
   "outputs": [],
   "source": [
    "#-----------------------------------------------------------------------------------------------------\n",
    "#--- Onduleur custom ---------------------------------------------------------------------------------\n",
    "#-----------------------------------------------------------------------------------------------------\n",
    "\n",
    "inverter_custom = {\n",
    "    \"Vac\" : 380.0, # Nominal voltage, \n",
    "    \"Pso\" : 44.0, # Power consumption during operation -- inchangé\n",
    "    \"Paco\" : 8000.0, # Maximum AC power\n",
    "    \"Pdco\" : 15000.0, # Maximum DC power\n",
    "    \"Vdco\" : 580.0, # Nominal DC voltage\n",
    "    \"C0\" : -1e-6, # Curvature between AC power and DC power W−1 : data du SMA STP 12000TL db CEC -- inchangé\n",
    "    \"C1\" : -3.5e-05, # Coefficient of Pd c,0 variation with DC input voltage V−1 : data du SMA STP 12000TL db CEC -- inchangé\n",
    "    \"C2\" : -0.000328, # Coefficient of Pso variation with DC input voltage V−1 : data du SMA STP 12000TL db CEC -- inchangé\n",
    "    \"C3\" : -0.001748, # Coefficient of C0 variation with DC input voltage V−1 : data du SMA STP 12000TL db CEC -- inchangé\n",
    "    \"Pnt\" : 3.6, # Inverter night time loss : ? -- inchangé -- essai à 3.6\n",
    "    \"Vdcmax\" : 1000.0, # Maximum DC voltage\n",
    "    \"Idcmax\" : 30.0, # Maximum DC current\n",
    "    \"Mppt_low\" : 260.0, # min MPP voltage\n",
    "    \"Mppt_high\" : 800.0, # max MPP voltage\n",
    "    \"CEC_Date\" : \"N/A\",\n",
    "    \"CEC_Type\" : \"N/A\"\n",
    "}"
   ]
  },
  {
   "cell_type": "code",
   "execution_count": null,
   "metadata": {},
   "outputs": [],
   "source": [
    "# # module, onduleur...\n",
    "\n",
    "# sandia_modules = pvlib.pvsystem.retrieve_sam('SandiaMod')\n",
    "# sapm_inverters = pvlib.pvsystem.retrieve_sam('cecinverter')\n",
    "\n",
    "# # module = sandia_modules['Canadian_Solar_CS5P_220M___2009_']\n",
    "# module = pd.Series(module_trina_vertex_405)\n",
    "# # inverter = sapm_inverters['ABB__MICRO_0_25_I_OUTD_US_208__208V_']\n",
    "# inverter = pd.Series(inverter_sma_tripower_sme)\n",
    "\n",
    "# inverter_ref = sapm_inverters['SMA_America__STP12000TL_US_10__480V_']  # SMA Tri 12kVA\n",
    "# module_ref = sandia_modules['Suniva_Titan_240__2009__E__']   # module ancien à 240 Wc\n",
    "\n",
    "# temperature_model_parameters = pvlib.temperature.TEMPERATURE_MODEL_PARAMETERS['sapm']['open_rack_glass_glass']"
   ]
  },
  {
   "cell_type": "code",
   "execution_count": null,
   "metadata": {},
   "outputs": [],
   "source": [
    "# sandia_modules.transpose().to_csv('../Databases/sandia_modules.csv')  # dernier update = 2012 ?!\n",
    "# sapm_inverters.transpose().to_csv('../Databases/sapm_inverters.csv')  # dernier update = "
   ]
  },
  {
   "cell_type": "code",
   "execution_count": null,
   "metadata": {},
   "outputs": [],
   "source": [
    "# module = module_trina_vertex_405\n",
    "# inverter = inverter_sma_tri_ref_8kVA"
   ]
  },
  {
   "cell_type": "code",
   "execution_count": null,
   "metadata": {},
   "outputs": [],
   "source": [
    "# # Design PV OOP\n",
    "\n",
    "# from pvlib.pvsystem import PVSystem, Array, FixedMount\n",
    "# from pvlib.location import Location\n",
    "# from pvlib.modelchain import ModelChain\n",
    "\n",
    "# energies = {}\n",
    "\n",
    "# for location, weather in zip(coordinates, tmys):\n",
    "#     latitude, longitude, name, altitude, timezone = location\n",
    "    \n",
    "#     location = Location(\n",
    "#         latitude,\n",
    "#         longitude,\n",
    "#         name=name,\n",
    "#         altitude=altitude,\n",
    "#         tz=timezone,\n",
    "#     )\n",
    "    \n",
    "#     mount = FixedMount(surface_tilt=0.0, surface_azimuth=180.0)\n",
    "    \n",
    "#     array = Array(\n",
    "#         mount=mount,\n",
    "#         module_parameters=module,\n",
    "#         temperature_model_parameters=temperature_model_parameters,\n",
    "#         modules_per_string=21,\n",
    "#         strings=1\n",
    "#     )\n",
    "    \n",
    "#     system = PVSystem(arrays=[array], inverter_parameters=inverter)\n",
    "    \n",
    "#     mc = ModelChain(system, location,\n",
    "#                     spectral_model='no_loss',  # on essaie spectral model = no loss...\n",
    "#     )\n",
    "    \n",
    "#     mc.run_model(weather)\n",
    "#     annual_energy = mc.results.ac.sum()\n",
    "    \n",
    "#     energies[name] = annual_energy\n",
    "\n",
    "# energies = pd.Series(energies)\n",
    "\n",
    "# energies.plot(kind='bar', rot=0)\n",
    "\n",
    "# plt.ylabel('Yearly energy yield (W hr)')"
   ]
  }
 ],
 "metadata": {
  "kernelspec": {
   "display_name": "Python 3.8.12 ('toy')",
   "language": "python",
   "name": "python3"
  },
  "language_info": {
   "codemirror_mode": {
    "name": "ipython",
    "version": 3
   },
   "file_extension": ".py",
   "mimetype": "text/x-python",
   "name": "python",
   "nbconvert_exporter": "python",
   "pygments_lexer": "ipython3",
   "version": "3.8.12"
  },
  "orig_nbformat": 4,
  "vscode": {
   "interpreter": {
    "hash": "0d4188421b1ea34cf57bd540652e2057ec243abca946606272c4bc8feb64e22f"
   }
  }
 },
 "nbformat": 4,
 "nbformat_minor": 2
}
