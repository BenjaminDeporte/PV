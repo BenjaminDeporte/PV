{
 "cells": [
  {
   "cell_type": "code",
   "execution_count": 1,
   "metadata": {},
   "outputs": [],
   "source": [
    "import numpy as np\n",
    "import pandas as pd\n",
    "import matplotlib.pyplot as plt"
   ]
  },
  {
   "cell_type": "code",
   "execution_count": 2,
   "metadata": {},
   "outputs": [],
   "source": [
    "import pvlib"
   ]
  },
  {
   "cell_type": "code",
   "execution_count": 3,
   "metadata": {},
   "outputs": [],
   "source": [
    "# where is Pechbusque...\n",
    "# latitude, longitude, name, altitude, timezone\n",
    "\n",
    "coordinates = [\n",
    "    (43.5, 1.47, 'Pechbusque', 270, 'utc')\n",
    "]"
   ]
  },
  {
   "cell_type": "code",
   "execution_count": 4,
   "metadata": {},
   "outputs": [],
   "source": [
    "# module, onduleur...\n",
    "\n",
    "sandia_modules = pvlib.pvsystem.retrieve_sam('SandiaMod')\n",
    "sapm_inverters = pvlib.pvsystem.retrieve_sam('cecinverter')\n",
    "\n",
    "module = sandia_modules['Canadian_Solar_CS5P_220M___2009_']\n",
    "inverter = sapm_inverters['ABB__MICRO_0_25_I_OUTD_US_208__208V_']\n",
    "\n",
    "temperature_model_parameters = pvlib.temperature.TEMPERATURE_MODEL_PARAMETERS['sapm']['open_rack_glass_glass']"
   ]
  },
  {
   "cell_type": "code",
   "execution_count": 5,
   "metadata": {},
   "outputs": [],
   "source": [
    "# récupère météo\n",
    "\n",
    "tmys = []\n",
    "\n",
    "for location in coordinates:\n",
    "    latitude, longitude, name, altitude, timezone = location\n",
    "    weather = pvlib.iotools.get_pvgis_tmy(latitude, longitude, map_variables=True)[0]  # map_variables=True ?!\n",
    "    weather.index.name = \"utc_time\"\n",
    "    \n",
    "    tmys.append(weather)"
   ]
  },
  {
   "cell_type": "code",
   "execution_count": 6,
   "metadata": {},
   "outputs": [
    {
     "data": {
      "text/plain": [
       "Text(0, 0.5, 'Yearly energy yield (W hr)')"
      ]
     },
     "execution_count": 6,
     "metadata": {},
     "output_type": "execute_result"
    },
    {
     "data": {
      "image/png": "[encoded data removed]",
      "text/plain": [
       "<Figure size 432x288 with 1 Axes>"
      ]
     },
     "metadata": {
      "needs_background": "light"
     },
     "output_type": "display_data"
    }
   ],
   "source": [
    "# Design PV OOP\n",
    "\n",
    "from pvlib.pvsystem import PVSystem, Array, FixedMount\n",
    "from pvlib.location import Location\n",
    "from pvlib.modelchain import ModelChain\n",
    "\n",
    "energies = {}\n",
    "\n",
    "for location, weather in zip(coordinates, tmys):\n",
    "    latitude, longitude, name, altitude, timezone = location\n",
    "    \n",
    "    location = Location(\n",
    "        latitude,\n",
    "        longitude,\n",
    "        name=name,\n",
    "        altitude=altitude,\n",
    "        tz=timezone,\n",
    "    )\n",
    "    \n",
    "    mount = FixedMount(surface_tilt=latitude, surface_azimuth=180)\n",
    "    \n",
    "    array = Array(\n",
    "        mount=mount,\n",
    "        module_parameters=module,\n",
    "        temperature_model_parameters=temperature_model_parameters,\n",
    "    )\n",
    "    \n",
    "    system = PVSystem(arrays=[array], inverter_parameters=inverter)\n",
    "    \n",
    "    mc = ModelChain(system, location)\n",
    "    \n",
    "    mc.run_model(weather)\n",
    "    annual_energy = mc.results.ac.sum()\n",
    "    \n",
    "    energies[name] = annual_energy\n",
    "\n",
    "energies = pd.Series(energies)\n",
    "\n",
    "energies.plot(kind='bar', rot=0)\n",
    "\n",
    "plt.ylabel('Yearly energy yield (W hr)')"
   ]
  }
 ],
 "metadata": {
  "kernelspec": {
   "display_name": "Python 3.8.12 ('toy')",
   "language": "python",
   "name": "python3"
  },
  "language_info": {
   "codemirror_mode": {
    "name": "ipython",
    "version": 3
   },
   "file_extension": ".py",
   "mimetype": "text/x-python",
   "name": "python",
   "nbconvert_exporter": "python",
   "pygments_lexer": "ipython3",
   "version": "3.8.12"
  },
  "orig_nbformat": 4,
  "vscode": {
   "interpreter": {
    "hash": "0d4188421b1ea34cf57bd540652e2057ec243abca946606272c4bc8feb64e22f"
   }
  }
 },
 "nbformat": 4,
 "nbformat_minor": 2
}
